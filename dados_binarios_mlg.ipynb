{
  "cells": [
    {
      "cell_type": "markdown",
      "metadata": {
        "id": "xrM1UrtVHpIb"
      },
      "source": [
        "# Prova 2 - Parte 2"
      ]
    },
    {
      "cell_type": "markdown",
      "metadata": {
        "id": "zDExPdLjHpIg"
      },
      "source": [
        "## SME0823 Modelos de Regressão e Aprendizado Supervisionado II"
      ]
    },
    {
      "cell_type": "markdown",
      "metadata": {
        "id": "CZVs41ouHpIg"
      },
      "source": [
        "#### Andrey Inácio Paulino 10818741"
      ]
    },
    {
      "cell_type": "markdown",
      "metadata": {
        "id": "i2nRCLLNHpIh"
      },
      "source": [
        "### Leitura e descrição dos dados"
      ]
    },
    {
      "cell_type": "markdown",
      "metadata": {
        "id": "c1yC_Ek1HpIh"
      },
      "source": [
        "Importação da biblioteca pandas para leitura dos dados"
      ]
    },
    {
      "cell_type": "code",
      "execution_count": null,
      "metadata": {
        "id": "_EIWppq4HpIi"
      },
      "outputs": [],
      "source": [
        "import pandas as pd\n",
        "dados = pd.read_csv(\"C:\\\\Users\\\\inacio\\\\Desktop\\\\oitavo_semestre\\\\modelos_regressao_II\\\\coverageX.txt\", delimiter = \"\\t\")"
      ]
    },
    {
      "cell_type": "code",
      "execution_count": null,
      "metadata": {
        "id": "EHFwD2gdHpIj",
        "outputId": "fbe97e80-ba53-4e8b-b602-4e26cd7a1bf6"
      },
      "outputs": [
        {
          "data": {
            "text/html": [
              "<div>\n",
              "<style scoped>\n",
              "    .dataframe tbody tr th:only-of-type {\n",
              "        vertical-align: middle;\n",
              "    }\n",
              "\n",
              "    .dataframe tbody tr th {\n",
              "        vertical-align: top;\n",
              "    }\n",
              "\n",
              "    .dataframe thead th {\n",
              "        text-align: right;\n",
              "    }\n",
              "</style>\n",
              "<table border=\"1\" class=\"dataframe\">\n",
              "  <thead>\n",
              "    <tr style=\"text-align: right;\">\n",
              "      <th></th>\n",
              "      <th>y</th>\n",
              "      <th>MEN</th>\n",
              "      <th>URBAN</th>\n",
              "      <th>PRIVATE</th>\n",
              "      <th>AGE</th>\n",
              "      <th>SENIORITY</th>\n",
              "    </tr>\n",
              "  </thead>\n",
              "  <tbody>\n",
              "    <tr>\n",
              "      <th>0</th>\n",
              "      <td>0</td>\n",
              "      <td>1</td>\n",
              "      <td>1</td>\n",
              "      <td>1</td>\n",
              "      <td>58</td>\n",
              "      <td>32</td>\n",
              "    </tr>\n",
              "    <tr>\n",
              "      <th>1</th>\n",
              "      <td>1</td>\n",
              "      <td>1</td>\n",
              "      <td>0</td>\n",
              "      <td>1</td>\n",
              "      <td>37</td>\n",
              "      <td>30</td>\n",
              "    </tr>\n",
              "    <tr>\n",
              "      <th>2</th>\n",
              "      <td>1</td>\n",
              "      <td>1</td>\n",
              "      <td>0</td>\n",
              "      <td>1</td>\n",
              "      <td>56</td>\n",
              "      <td>28</td>\n",
              "    </tr>\n",
              "    <tr>\n",
              "      <th>3</th>\n",
              "      <td>0</td>\n",
              "      <td>1</td>\n",
              "      <td>0</td>\n",
              "      <td>1</td>\n",
              "      <td>68</td>\n",
              "      <td>27</td>\n",
              "    </tr>\n",
              "    <tr>\n",
              "      <th>4</th>\n",
              "      <td>0</td>\n",
              "      <td>1</td>\n",
              "      <td>0</td>\n",
              "      <td>1</td>\n",
              "      <td>58</td>\n",
              "      <td>26</td>\n",
              "    </tr>\n",
              "    <tr>\n",
              "      <th>...</th>\n",
              "      <td>...</td>\n",
              "      <td>...</td>\n",
              "      <td>...</td>\n",
              "      <td>...</td>\n",
              "      <td>...</td>\n",
              "      <td>...</td>\n",
              "    </tr>\n",
              "    <tr>\n",
              "      <th>3995</th>\n",
              "      <td>0</td>\n",
              "      <td>0</td>\n",
              "      <td>0</td>\n",
              "      <td>1</td>\n",
              "      <td>30</td>\n",
              "      <td>2</td>\n",
              "    </tr>\n",
              "    <tr>\n",
              "      <th>3996</th>\n",
              "      <td>1</td>\n",
              "      <td>0</td>\n",
              "      <td>0</td>\n",
              "      <td>1</td>\n",
              "      <td>23</td>\n",
              "      <td>2</td>\n",
              "    </tr>\n",
              "    <tr>\n",
              "      <th>3997</th>\n",
              "      <td>1</td>\n",
              "      <td>0</td>\n",
              "      <td>1</td>\n",
              "      <td>1</td>\n",
              "      <td>41</td>\n",
              "      <td>2</td>\n",
              "    </tr>\n",
              "    <tr>\n",
              "      <th>3998</th>\n",
              "      <td>1</td>\n",
              "      <td>0</td>\n",
              "      <td>1</td>\n",
              "      <td>1</td>\n",
              "      <td>27</td>\n",
              "      <td>2</td>\n",
              "    </tr>\n",
              "    <tr>\n",
              "      <th>3999</th>\n",
              "      <td>0</td>\n",
              "      <td>1</td>\n",
              "      <td>1</td>\n",
              "      <td>1</td>\n",
              "      <td>41</td>\n",
              "      <td>2</td>\n",
              "    </tr>\n",
              "  </tbody>\n",
              "</table>\n",
              "<p>4000 rows × 6 columns</p>\n",
              "</div>"
            ],
            "text/plain": [
              "      y  MEN  URBAN  PRIVATE  AGE  SENIORITY\n",
              "0     0    1      1        1   58         32\n",
              "1     1    1      0        1   37         30\n",
              "2     1    1      0        1   56         28\n",
              "3     0    1      0        1   68         27\n",
              "4     0    1      0        1   58         26\n",
              "...  ..  ...    ...      ...  ...        ...\n",
              "3995  0    0      0        1   30          2\n",
              "3996  1    0      0        1   23          2\n",
              "3997  1    0      1        1   41          2\n",
              "3998  1    0      1        1   27          2\n",
              "3999  0    1      1        1   41          2\n",
              "\n",
              "[4000 rows x 6 columns]"
            ]
          },
          "execution_count": 2,
          "metadata": {},
          "output_type": "execute_result"
        }
      ],
      "source": [
        "dados"
      ]
    },
    {
      "cell_type": "code",
      "execution_count": null,
      "metadata": {
        "id": "JIq5WNbhHpIk",
        "outputId": "f31ec366-e398-44af-9748-44b049fead6b"
      },
      "outputs": [
        {
          "data": {
            "text/plain": [
              "0    2613\n",
              "1    1387\n",
              "Name: y, dtype: int64"
            ]
          },
          "execution_count": 3,
          "metadata": {},
          "output_type": "execute_result"
        }
      ],
      "source": [
        "dados['y'].value_counts()"
      ]
    },
    {
      "cell_type": "markdown",
      "metadata": {
        "id": "sOkEtJzCHpIl"
      },
      "source": [
        "No conjunto de dados coverageX.txt a variável resposta é sobre acionar ou não o seguro de carros, a base de dados possui 4000 observações e seis colunas.\n",
        "Os dados foram utilizados em Bazán et al (2017) e são descritos a seguir:\n",
        "* Y: Acionou (1) ou não (0) o seguro do carro;\n",
        "* MEN: Home (1), Mulher (0);\n",
        "* URBAN: Conduz na área urbana (1), conduz na área rural (0);\n",
        "* PRIVATE: Veículo privado (1), veículo público (0);\n",
        "* AGE: Idade em anos do condutor;\n",
        "* SENIORITY: Tempo de uso da carteira de motorista.\n",
        "\n",
        "Sendo que das 4000 observações, 1387 o seguro foi acionado."
      ]
    },
    {
      "cell_type": "code",
      "execution_count": null,
      "metadata": {
        "id": "spjdvsGcHpIm",
        "outputId": "13ebaaff-541f-4ce1-d469-212f6e192f8c"
      },
      "outputs": [
        {
          "data": {
            "text/html": [
              "<div>\n",
              "<style scoped>\n",
              "    .dataframe tbody tr th:only-of-type {\n",
              "        vertical-align: middle;\n",
              "    }\n",
              "\n",
              "    .dataframe tbody tr th {\n",
              "        vertical-align: top;\n",
              "    }\n",
              "\n",
              "    .dataframe thead th {\n",
              "        text-align: right;\n",
              "    }\n",
              "</style>\n",
              "<table border=\"1\" class=\"dataframe\">\n",
              "  <thead>\n",
              "    <tr style=\"text-align: right;\">\n",
              "      <th></th>\n",
              "      <th>y</th>\n",
              "      <th>MEN</th>\n",
              "      <th>URBAN</th>\n",
              "      <th>PRIVATE</th>\n",
              "      <th>AGE</th>\n",
              "      <th>SENIORITY</th>\n",
              "    </tr>\n",
              "  </thead>\n",
              "  <tbody>\n",
              "    <tr>\n",
              "      <th>0</th>\n",
              "      <td>0</td>\n",
              "      <td>1</td>\n",
              "      <td>1</td>\n",
              "      <td>1</td>\n",
              "      <td>58</td>\n",
              "      <td>32</td>\n",
              "    </tr>\n",
              "    <tr>\n",
              "      <th>1</th>\n",
              "      <td>1</td>\n",
              "      <td>1</td>\n",
              "      <td>0</td>\n",
              "      <td>1</td>\n",
              "      <td>37</td>\n",
              "      <td>30</td>\n",
              "    </tr>\n",
              "    <tr>\n",
              "      <th>2</th>\n",
              "      <td>1</td>\n",
              "      <td>1</td>\n",
              "      <td>0</td>\n",
              "      <td>1</td>\n",
              "      <td>56</td>\n",
              "      <td>28</td>\n",
              "    </tr>\n",
              "    <tr>\n",
              "      <th>3</th>\n",
              "      <td>0</td>\n",
              "      <td>1</td>\n",
              "      <td>0</td>\n",
              "      <td>1</td>\n",
              "      <td>68</td>\n",
              "      <td>27</td>\n",
              "    </tr>\n",
              "    <tr>\n",
              "      <th>4</th>\n",
              "      <td>0</td>\n",
              "      <td>1</td>\n",
              "      <td>0</td>\n",
              "      <td>1</td>\n",
              "      <td>58</td>\n",
              "      <td>26</td>\n",
              "    </tr>\n",
              "    <tr>\n",
              "      <th>...</th>\n",
              "      <td>...</td>\n",
              "      <td>...</td>\n",
              "      <td>...</td>\n",
              "      <td>...</td>\n",
              "      <td>...</td>\n",
              "      <td>...</td>\n",
              "    </tr>\n",
              "    <tr>\n",
              "      <th>3995</th>\n",
              "      <td>0</td>\n",
              "      <td>0</td>\n",
              "      <td>0</td>\n",
              "      <td>1</td>\n",
              "      <td>30</td>\n",
              "      <td>2</td>\n",
              "    </tr>\n",
              "    <tr>\n",
              "      <th>3996</th>\n",
              "      <td>1</td>\n",
              "      <td>0</td>\n",
              "      <td>0</td>\n",
              "      <td>1</td>\n",
              "      <td>23</td>\n",
              "      <td>2</td>\n",
              "    </tr>\n",
              "    <tr>\n",
              "      <th>3997</th>\n",
              "      <td>1</td>\n",
              "      <td>0</td>\n",
              "      <td>1</td>\n",
              "      <td>1</td>\n",
              "      <td>41</td>\n",
              "      <td>2</td>\n",
              "    </tr>\n",
              "    <tr>\n",
              "      <th>3998</th>\n",
              "      <td>1</td>\n",
              "      <td>0</td>\n",
              "      <td>1</td>\n",
              "      <td>1</td>\n",
              "      <td>27</td>\n",
              "      <td>2</td>\n",
              "    </tr>\n",
              "    <tr>\n",
              "      <th>3999</th>\n",
              "      <td>0</td>\n",
              "      <td>1</td>\n",
              "      <td>1</td>\n",
              "      <td>1</td>\n",
              "      <td>41</td>\n",
              "      <td>2</td>\n",
              "    </tr>\n",
              "  </tbody>\n",
              "</table>\n",
              "<p>4000 rows × 6 columns</p>\n",
              "</div>"
            ],
            "text/plain": [
              "      y  MEN  URBAN  PRIVATE  AGE  SENIORITY\n",
              "0     0    1      1        1   58         32\n",
              "1     1    1      0        1   37         30\n",
              "2     1    1      0        1   56         28\n",
              "3     0    1      0        1   68         27\n",
              "4     0    1      0        1   58         26\n",
              "...  ..  ...    ...      ...  ...        ...\n",
              "3995  0    0      0        1   30          2\n",
              "3996  1    0      0        1   23          2\n",
              "3997  1    0      1        1   41          2\n",
              "3998  1    0      1        1   27          2\n",
              "3999  0    1      1        1   41          2\n",
              "\n",
              "[4000 rows x 6 columns]"
            ]
          },
          "execution_count": 4,
          "metadata": {},
          "output_type": "execute_result"
        }
      ],
      "source": [
        "dados.dropna()"
      ]
    },
    {
      "cell_type": "markdown",
      "metadata": {
        "id": "3JI1oBAUHpIn"
      },
      "source": [
        "A base de dados não apresenta valores faltantes."
      ]
    },
    {
      "cell_type": "markdown",
      "metadata": {
        "id": "vDGBobA0HpIn"
      },
      "source": [
        "#### a) Use seu código USP para tomar uma amostra de tamanho 2000 para desenvolver as análises que são descritas a seguir. Salve esta base com o nome baseprincipal.csv. Este base de dados deverá ser compartilhado com seu relatório."
      ]
    },
    {
      "cell_type": "markdown",
      "metadata": {
        "id": "9eD56Xv3HpIn"
      },
      "source": [
        "Pegando amostra de tamanho 2000 do conjunto de dados e salvando a amostra como uma nova base de dados no formato csv."
      ]
    },
    {
      "cell_type": "code",
      "execution_count": null,
      "metadata": {
        "id": "3g7t2IlTHpIo",
        "outputId": "7704cb17-381c-443b-d754-d1cf1c71a889"
      },
      "outputs": [
        {
          "data": {
            "text/html": [
              "<div>\n",
              "<style scoped>\n",
              "    .dataframe tbody tr th:only-of-type {\n",
              "        vertical-align: middle;\n",
              "    }\n",
              "\n",
              "    .dataframe tbody tr th {\n",
              "        vertical-align: top;\n",
              "    }\n",
              "\n",
              "    .dataframe thead th {\n",
              "        text-align: right;\n",
              "    }\n",
              "</style>\n",
              "<table border=\"1\" class=\"dataframe\">\n",
              "  <thead>\n",
              "    <tr style=\"text-align: right;\">\n",
              "      <th></th>\n",
              "      <th>y</th>\n",
              "      <th>MEN</th>\n",
              "      <th>URBAN</th>\n",
              "      <th>PRIVATE</th>\n",
              "      <th>AGE</th>\n",
              "      <th>SENIORITY</th>\n",
              "    </tr>\n",
              "  </thead>\n",
              "  <tbody>\n",
              "    <tr>\n",
              "      <th>1487</th>\n",
              "      <td>0</td>\n",
              "      <td>1</td>\n",
              "      <td>0</td>\n",
              "      <td>1</td>\n",
              "      <td>41</td>\n",
              "      <td>12</td>\n",
              "    </tr>\n",
              "    <tr>\n",
              "      <th>3440</th>\n",
              "      <td>0</td>\n",
              "      <td>1</td>\n",
              "      <td>0</td>\n",
              "      <td>1</td>\n",
              "      <td>49</td>\n",
              "      <td>15</td>\n",
              "    </tr>\n",
              "    <tr>\n",
              "      <th>1206</th>\n",
              "      <td>0</td>\n",
              "      <td>1</td>\n",
              "      <td>1</td>\n",
              "      <td>1</td>\n",
              "      <td>66</td>\n",
              "      <td>23</td>\n",
              "    </tr>\n",
              "    <tr>\n",
              "      <th>2071</th>\n",
              "      <td>0</td>\n",
              "      <td>1</td>\n",
              "      <td>0</td>\n",
              "      <td>1</td>\n",
              "      <td>37</td>\n",
              "      <td>28</td>\n",
              "    </tr>\n",
              "    <tr>\n",
              "      <th>3572</th>\n",
              "      <td>0</td>\n",
              "      <td>0</td>\n",
              "      <td>1</td>\n",
              "      <td>1</td>\n",
              "      <td>18</td>\n",
              "      <td>3</td>\n",
              "    </tr>\n",
              "    <tr>\n",
              "      <th>...</th>\n",
              "      <td>...</td>\n",
              "      <td>...</td>\n",
              "      <td>...</td>\n",
              "      <td>...</td>\n",
              "      <td>...</td>\n",
              "      <td>...</td>\n",
              "    </tr>\n",
              "    <tr>\n",
              "      <th>1508</th>\n",
              "      <td>1</td>\n",
              "      <td>1</td>\n",
              "      <td>0</td>\n",
              "      <td>1</td>\n",
              "      <td>44</td>\n",
              "      <td>20</td>\n",
              "    </tr>\n",
              "    <tr>\n",
              "      <th>2330</th>\n",
              "      <td>0</td>\n",
              "      <td>1</td>\n",
              "      <td>0</td>\n",
              "      <td>1</td>\n",
              "      <td>43</td>\n",
              "      <td>7</td>\n",
              "    </tr>\n",
              "    <tr>\n",
              "      <th>203</th>\n",
              "      <td>0</td>\n",
              "      <td>1</td>\n",
              "      <td>0</td>\n",
              "      <td>1</td>\n",
              "      <td>36</td>\n",
              "      <td>17</td>\n",
              "    </tr>\n",
              "    <tr>\n",
              "      <th>1722</th>\n",
              "      <td>0</td>\n",
              "      <td>1</td>\n",
              "      <td>0</td>\n",
              "      <td>1</td>\n",
              "      <td>45</td>\n",
              "      <td>11</td>\n",
              "    </tr>\n",
              "    <tr>\n",
              "      <th>3618</th>\n",
              "      <td>0</td>\n",
              "      <td>1</td>\n",
              "      <td>0</td>\n",
              "      <td>1</td>\n",
              "      <td>64</td>\n",
              "      <td>3</td>\n",
              "    </tr>\n",
              "  </tbody>\n",
              "</table>\n",
              "<p>2000 rows × 6 columns</p>\n",
              "</div>"
            ],
            "text/plain": [
              "      y  MEN  URBAN  PRIVATE  AGE  SENIORITY\n",
              "1487  0    1      0        1   41         12\n",
              "3440  0    1      0        1   49         15\n",
              "1206  0    1      1        1   66         23\n",
              "2071  0    1      0        1   37         28\n",
              "3572  0    0      1        1   18          3\n",
              "...  ..  ...    ...      ...  ...        ...\n",
              "1508  1    1      0        1   44         20\n",
              "2330  0    1      0        1   43          7\n",
              "203   0    1      0        1   36         17\n",
              "1722  0    1      0        1   45         11\n",
              "3618  0    1      0        1   64          3\n",
              "\n",
              "[2000 rows x 6 columns]"
            ]
          },
          "execution_count": 5,
          "metadata": {},
          "output_type": "execute_result"
        }
      ],
      "source": [
        "amostra = dados.sample(2000, random_state = 10818741)\n",
        "amostra.to_csv('baseprincipal.csv',sep=',',decimal='.')\n",
        "amostra"
      ]
    },
    {
      "cell_type": "markdown",
      "metadata": {
        "id": "ROmiQqJpHpIo"
      },
      "source": [
        "#### b) Crie uma amostra de treino e teste (70% treino e 30% teste) usando a base de dados principal criada no passo a). Salve estas bases como o nome basetreino.csv e baseteste.csv. Estas bases de dados deveram ser compartilhadas com seu relatório."
      ]
    },
    {
      "cell_type": "markdown",
      "metadata": {
        "id": "48OgWjDWHpIo"
      },
      "source": [
        "Importação da biblioteca numy para trabalhar com arrays"
      ]
    },
    {
      "cell_type": "code",
      "execution_count": null,
      "metadata": {
        "id": "Y4-MPJk2HpIp"
      },
      "outputs": [],
      "source": [
        "import numpy as np"
      ]
    },
    {
      "cell_type": "markdown",
      "metadata": {
        "id": "XcWzjAcaHpIp"
      },
      "source": [
        "Divisão dos dados"
      ]
    },
    {
      "cell_type": "code",
      "execution_count": null,
      "metadata": {
        "id": "lVNJN7KmHpIp",
        "outputId": "f0b9f714-9d17-435c-d509-c67e9541978f"
      },
      "outputs": [
        {
          "data": {
            "text/html": [
              "<div>\n",
              "<style scoped>\n",
              "    .dataframe tbody tr th:only-of-type {\n",
              "        vertical-align: middle;\n",
              "    }\n",
              "\n",
              "    .dataframe tbody tr th {\n",
              "        vertical-align: top;\n",
              "    }\n",
              "\n",
              "    .dataframe thead th {\n",
              "        text-align: right;\n",
              "    }\n",
              "</style>\n",
              "<table border=\"1\" class=\"dataframe\">\n",
              "  <thead>\n",
              "    <tr style=\"text-align: right;\">\n",
              "      <th></th>\n",
              "      <th>MEN</th>\n",
              "      <th>URBAN</th>\n",
              "      <th>PRIVATE</th>\n",
              "      <th>AGE</th>\n",
              "      <th>SENIORITY</th>\n",
              "    </tr>\n",
              "  </thead>\n",
              "  <tbody>\n",
              "    <tr>\n",
              "      <th>1487</th>\n",
              "      <td>1</td>\n",
              "      <td>0</td>\n",
              "      <td>1</td>\n",
              "      <td>41</td>\n",
              "      <td>12</td>\n",
              "    </tr>\n",
              "    <tr>\n",
              "      <th>3440</th>\n",
              "      <td>1</td>\n",
              "      <td>0</td>\n",
              "      <td>1</td>\n",
              "      <td>49</td>\n",
              "      <td>15</td>\n",
              "    </tr>\n",
              "    <tr>\n",
              "      <th>1206</th>\n",
              "      <td>1</td>\n",
              "      <td>1</td>\n",
              "      <td>1</td>\n",
              "      <td>66</td>\n",
              "      <td>23</td>\n",
              "    </tr>\n",
              "    <tr>\n",
              "      <th>2071</th>\n",
              "      <td>1</td>\n",
              "      <td>0</td>\n",
              "      <td>1</td>\n",
              "      <td>37</td>\n",
              "      <td>28</td>\n",
              "    </tr>\n",
              "    <tr>\n",
              "      <th>3572</th>\n",
              "      <td>0</td>\n",
              "      <td>1</td>\n",
              "      <td>1</td>\n",
              "      <td>18</td>\n",
              "      <td>3</td>\n",
              "    </tr>\n",
              "    <tr>\n",
              "      <th>...</th>\n",
              "      <td>...</td>\n",
              "      <td>...</td>\n",
              "      <td>...</td>\n",
              "      <td>...</td>\n",
              "      <td>...</td>\n",
              "    </tr>\n",
              "    <tr>\n",
              "      <th>1508</th>\n",
              "      <td>1</td>\n",
              "      <td>0</td>\n",
              "      <td>1</td>\n",
              "      <td>44</td>\n",
              "      <td>20</td>\n",
              "    </tr>\n",
              "    <tr>\n",
              "      <th>2330</th>\n",
              "      <td>1</td>\n",
              "      <td>0</td>\n",
              "      <td>1</td>\n",
              "      <td>43</td>\n",
              "      <td>7</td>\n",
              "    </tr>\n",
              "    <tr>\n",
              "      <th>203</th>\n",
              "      <td>1</td>\n",
              "      <td>0</td>\n",
              "      <td>1</td>\n",
              "      <td>36</td>\n",
              "      <td>17</td>\n",
              "    </tr>\n",
              "    <tr>\n",
              "      <th>1722</th>\n",
              "      <td>1</td>\n",
              "      <td>0</td>\n",
              "      <td>1</td>\n",
              "      <td>45</td>\n",
              "      <td>11</td>\n",
              "    </tr>\n",
              "    <tr>\n",
              "      <th>3618</th>\n",
              "      <td>1</td>\n",
              "      <td>0</td>\n",
              "      <td>1</td>\n",
              "      <td>64</td>\n",
              "      <td>3</td>\n",
              "    </tr>\n",
              "  </tbody>\n",
              "</table>\n",
              "<p>2000 rows × 5 columns</p>\n",
              "</div>"
            ],
            "text/plain": [
              "      MEN  URBAN  PRIVATE  AGE  SENIORITY\n",
              "1487    1      0        1   41         12\n",
              "3440    1      0        1   49         15\n",
              "1206    1      1        1   66         23\n",
              "2071    1      0        1   37         28\n",
              "3572    0      1        1   18          3\n",
              "...   ...    ...      ...  ...        ...\n",
              "1508    1      0        1   44         20\n",
              "2330    1      0        1   43          7\n",
              "203     1      0        1   36         17\n",
              "1722    1      0        1   45         11\n",
              "3618    1      0        1   64          3\n",
              "\n",
              "[2000 rows x 5 columns]"
            ]
          },
          "execution_count": 7,
          "metadata": {},
          "output_type": "execute_result"
        }
      ],
      "source": [
        "X = amostra[amostra.columns[1:]]\n",
        "X"
      ]
    },
    {
      "cell_type": "code",
      "execution_count": null,
      "metadata": {
        "id": "FQjKdOqtHpIq",
        "outputId": "fb4fc60e-e124-4567-f65a-f92be98450f9"
      },
      "outputs": [
        {
          "data": {
            "text/plain": [
              "1487    0\n",
              "3440    0\n",
              "1206    0\n",
              "2071    0\n",
              "3572    0\n",
              "       ..\n",
              "1508    1\n",
              "2330    0\n",
              "203     0\n",
              "1722    0\n",
              "3618    0\n",
              "Name: y, Length: 2000, dtype: int64"
            ]
          },
          "execution_count": 8,
          "metadata": {},
          "output_type": "execute_result"
        }
      ],
      "source": [
        "y = amostra['y']\n",
        "y"
      ]
    },
    {
      "cell_type": "markdown",
      "metadata": {
        "id": "p5Zux4vmHpIq"
      },
      "source": [
        "Conversão de X e y em array para criar as amostras de treino e teste"
      ]
    },
    {
      "cell_type": "code",
      "execution_count": null,
      "metadata": {
        "id": "Nfh5DIUmHpIq",
        "outputId": "3df6306e-85ba-4553-a0f4-ab884aca353c"
      },
      "outputs": [
        {
          "data": {
            "text/plain": [
              "array([[ 1,  0,  1, 41, 12],\n",
              "       [ 1,  0,  1, 49, 15],\n",
              "       [ 1,  1,  1, 66, 23],\n",
              "       ...,\n",
              "       [ 1,  0,  1, 36, 17],\n",
              "       [ 1,  0,  1, 45, 11],\n",
              "       [ 1,  0,  1, 64,  3]], dtype=int64)"
            ]
          },
          "execution_count": 9,
          "metadata": {},
          "output_type": "execute_result"
        }
      ],
      "source": [
        "treino = X.values \n",
        "treino"
      ]
    },
    {
      "cell_type": "code",
      "execution_count": null,
      "metadata": {
        "id": "GbhBb1CIHpIr",
        "outputId": "6bf721b2-351b-4742-8245-9ae808b749cf"
      },
      "outputs": [
        {
          "data": {
            "text/plain": [
              "array([0, 0, 0, ..., 0, 0, 0], dtype=int64)"
            ]
          },
          "execution_count": 10,
          "metadata": {},
          "output_type": "execute_result"
        }
      ],
      "source": [
        "teste = np.array(y)\n",
        "teste"
      ]
    },
    {
      "cell_type": "markdown",
      "metadata": {
        "id": "U1hLrPVjHpIr"
      },
      "source": [
        "Importação da biblioteca e criação das amostras de treino e teste"
      ]
    },
    {
      "cell_type": "code",
      "execution_count": null,
      "metadata": {
        "id": "pp2-ZoBLHpIr"
      },
      "outputs": [],
      "source": [
        "from sklearn.model_selection import train_test_split"
      ]
    },
    {
      "cell_type": "code",
      "execution_count": null,
      "metadata": {
        "id": "0-xl6SaiHpIs"
      },
      "outputs": [],
      "source": [
        "X_treino,X_teste,y_treino,y_teste = train_test_split(treino, teste, test_size=0.3, random_state=10818741) "
      ]
    },
    {
      "cell_type": "markdown",
      "metadata": {
        "id": "5-QywKpuHpIs"
      },
      "source": [
        "Ajuste dos formatos array e junção das partes treino e teste para depois converter data frame"
      ]
    },
    {
      "cell_type": "code",
      "execution_count": null,
      "metadata": {
        "id": "Vy00umaJHpIs"
      },
      "outputs": [],
      "source": [
        "y_treino = np.array_split(y_treino, len(y_treino))\n",
        "base_treino = np.concatenate((X_treino, y_treino), axis=1)"
      ]
    },
    {
      "cell_type": "code",
      "execution_count": null,
      "metadata": {
        "id": "XOTcYhNpHpIs",
        "outputId": "8c496990-f22d-400f-965e-049203fcd7f1"
      },
      "outputs": [
        {
          "data": {
            "text/plain": [
              "array([[ 1,  0,  1, 37,  3,  0],\n",
              "       [ 1,  1,  1, 63, 13,  0],\n",
              "       [ 1,  0,  1, 48, 20,  1],\n",
              "       ...,\n",
              "       [ 0,  1,  1, 44, 18,  0],\n",
              "       [ 1,  1,  1, 51,  7,  0],\n",
              "       [ 1,  0,  1, 36, 16,  1]], dtype=int64)"
            ]
          },
          "execution_count": 14,
          "metadata": {},
          "output_type": "execute_result"
        }
      ],
      "source": [
        "base_treino"
      ]
    },
    {
      "cell_type": "code",
      "execution_count": null,
      "metadata": {
        "id": "PUPnfsDhHpIt"
      },
      "outputs": [],
      "source": [
        "y_teste = np.array_split(y_teste, len(y_teste)) \n",
        "base_teste = np.concatenate((X_teste, y_teste), axis=1) "
      ]
    },
    {
      "cell_type": "code",
      "execution_count": null,
      "metadata": {
        "id": "5fjwDuPlHpIt",
        "outputId": "80335be8-d48e-4fd4-dd29-3a5693687153"
      },
      "outputs": [
        {
          "data": {
            "text/plain": [
              "array([[ 1,  0,  1, 44,  2,  0],\n",
              "       [ 1,  0,  1, 57, 23,  1],\n",
              "       [ 1,  0,  1, 65, 24,  0],\n",
              "       ...,\n",
              "       [ 1,  0,  1, 54, 11,  0],\n",
              "       [ 0,  0,  1, 31,  4,  1],\n",
              "       [ 1,  0,  1, 46, 20,  1]], dtype=int64)"
            ]
          },
          "execution_count": 16,
          "metadata": {},
          "output_type": "execute_result"
        }
      ],
      "source": [
        "base_teste"
      ]
    },
    {
      "cell_type": "markdown",
      "metadata": {
        "id": "QcmtP4rkHpIt"
      },
      "source": [
        "Conversão em data frame para salvar a base em formato csv."
      ]
    },
    {
      "cell_type": "code",
      "execution_count": null,
      "metadata": {
        "id": "4XCFI0EWHpIt"
      },
      "outputs": [],
      "source": [
        "base_treino = pd.DataFrame(base_treino, columns=['MEN', 'URBAN', 'PRIVATE', 'AGE', 'SENIORITY','y'])\n",
        "base_teste = pd.DataFrame(base_teste, columns=['MEN', 'URBAN', 'PRIVATE', 'AGE', 'SENIORITY','y'])"
      ]
    },
    {
      "cell_type": "code",
      "execution_count": null,
      "metadata": {
        "id": "6yDb1bpWHpIu",
        "outputId": "b6ce76ae-b6bc-4222-fae2-759043392d05"
      },
      "outputs": [
        {
          "data": {
            "text/html": [
              "<div>\n",
              "<style scoped>\n",
              "    .dataframe tbody tr th:only-of-type {\n",
              "        vertical-align: middle;\n",
              "    }\n",
              "\n",
              "    .dataframe tbody tr th {\n",
              "        vertical-align: top;\n",
              "    }\n",
              "\n",
              "    .dataframe thead th {\n",
              "        text-align: right;\n",
              "    }\n",
              "</style>\n",
              "<table border=\"1\" class=\"dataframe\">\n",
              "  <thead>\n",
              "    <tr style=\"text-align: right;\">\n",
              "      <th></th>\n",
              "      <th>MEN</th>\n",
              "      <th>URBAN</th>\n",
              "      <th>PRIVATE</th>\n",
              "      <th>AGE</th>\n",
              "      <th>SENIORITY</th>\n",
              "      <th>y</th>\n",
              "    </tr>\n",
              "  </thead>\n",
              "  <tbody>\n",
              "    <tr>\n",
              "      <th>0</th>\n",
              "      <td>1</td>\n",
              "      <td>0</td>\n",
              "      <td>1</td>\n",
              "      <td>37</td>\n",
              "      <td>3</td>\n",
              "      <td>0</td>\n",
              "    </tr>\n",
              "    <tr>\n",
              "      <th>1</th>\n",
              "      <td>1</td>\n",
              "      <td>1</td>\n",
              "      <td>1</td>\n",
              "      <td>63</td>\n",
              "      <td>13</td>\n",
              "      <td>0</td>\n",
              "    </tr>\n",
              "    <tr>\n",
              "      <th>2</th>\n",
              "      <td>1</td>\n",
              "      <td>0</td>\n",
              "      <td>1</td>\n",
              "      <td>48</td>\n",
              "      <td>20</td>\n",
              "      <td>1</td>\n",
              "    </tr>\n",
              "    <tr>\n",
              "      <th>3</th>\n",
              "      <td>0</td>\n",
              "      <td>1</td>\n",
              "      <td>1</td>\n",
              "      <td>53</td>\n",
              "      <td>5</td>\n",
              "      <td>0</td>\n",
              "    </tr>\n",
              "    <tr>\n",
              "      <th>4</th>\n",
              "      <td>1</td>\n",
              "      <td>0</td>\n",
              "      <td>1</td>\n",
              "      <td>33</td>\n",
              "      <td>16</td>\n",
              "      <td>1</td>\n",
              "    </tr>\n",
              "    <tr>\n",
              "      <th>...</th>\n",
              "      <td>...</td>\n",
              "      <td>...</td>\n",
              "      <td>...</td>\n",
              "      <td>...</td>\n",
              "      <td>...</td>\n",
              "      <td>...</td>\n",
              "    </tr>\n",
              "    <tr>\n",
              "      <th>1395</th>\n",
              "      <td>1</td>\n",
              "      <td>0</td>\n",
              "      <td>1</td>\n",
              "      <td>45</td>\n",
              "      <td>6</td>\n",
              "      <td>0</td>\n",
              "    </tr>\n",
              "    <tr>\n",
              "      <th>1396</th>\n",
              "      <td>1</td>\n",
              "      <td>0</td>\n",
              "      <td>1</td>\n",
              "      <td>41</td>\n",
              "      <td>14</td>\n",
              "      <td>0</td>\n",
              "    </tr>\n",
              "    <tr>\n",
              "      <th>1397</th>\n",
              "      <td>0</td>\n",
              "      <td>1</td>\n",
              "      <td>1</td>\n",
              "      <td>44</td>\n",
              "      <td>18</td>\n",
              "      <td>0</td>\n",
              "    </tr>\n",
              "    <tr>\n",
              "      <th>1398</th>\n",
              "      <td>1</td>\n",
              "      <td>1</td>\n",
              "      <td>1</td>\n",
              "      <td>51</td>\n",
              "      <td>7</td>\n",
              "      <td>0</td>\n",
              "    </tr>\n",
              "    <tr>\n",
              "      <th>1399</th>\n",
              "      <td>1</td>\n",
              "      <td>0</td>\n",
              "      <td>1</td>\n",
              "      <td>36</td>\n",
              "      <td>16</td>\n",
              "      <td>1</td>\n",
              "    </tr>\n",
              "  </tbody>\n",
              "</table>\n",
              "<p>1400 rows × 6 columns</p>\n",
              "</div>"
            ],
            "text/plain": [
              "      MEN  URBAN  PRIVATE  AGE  SENIORITY  y\n",
              "0       1      0        1   37          3  0\n",
              "1       1      1        1   63         13  0\n",
              "2       1      0        1   48         20  1\n",
              "3       0      1        1   53          5  0\n",
              "4       1      0        1   33         16  1\n",
              "...   ...    ...      ...  ...        ... ..\n",
              "1395    1      0        1   45          6  0\n",
              "1396    1      0        1   41         14  0\n",
              "1397    0      1        1   44         18  0\n",
              "1398    1      1        1   51          7  0\n",
              "1399    1      0        1   36         16  1\n",
              "\n",
              "[1400 rows x 6 columns]"
            ]
          },
          "execution_count": 18,
          "metadata": {},
          "output_type": "execute_result"
        }
      ],
      "source": [
        "base_treino"
      ]
    },
    {
      "cell_type": "code",
      "execution_count": null,
      "metadata": {
        "id": "8S_4ljm3HpIu",
        "outputId": "92c564ea-cae6-4055-deae-a286f5187cae"
      },
      "outputs": [
        {
          "data": {
            "text/html": [
              "<div>\n",
              "<style scoped>\n",
              "    .dataframe tbody tr th:only-of-type {\n",
              "        vertical-align: middle;\n",
              "    }\n",
              "\n",
              "    .dataframe tbody tr th {\n",
              "        vertical-align: top;\n",
              "    }\n",
              "\n",
              "    .dataframe thead th {\n",
              "        text-align: right;\n",
              "    }\n",
              "</style>\n",
              "<table border=\"1\" class=\"dataframe\">\n",
              "  <thead>\n",
              "    <tr style=\"text-align: right;\">\n",
              "      <th></th>\n",
              "      <th>MEN</th>\n",
              "      <th>URBAN</th>\n",
              "      <th>PRIVATE</th>\n",
              "      <th>AGE</th>\n",
              "      <th>SENIORITY</th>\n",
              "      <th>y</th>\n",
              "    </tr>\n",
              "  </thead>\n",
              "  <tbody>\n",
              "    <tr>\n",
              "      <th>0</th>\n",
              "      <td>1</td>\n",
              "      <td>0</td>\n",
              "      <td>1</td>\n",
              "      <td>44</td>\n",
              "      <td>2</td>\n",
              "      <td>0</td>\n",
              "    </tr>\n",
              "    <tr>\n",
              "      <th>1</th>\n",
              "      <td>1</td>\n",
              "      <td>0</td>\n",
              "      <td>1</td>\n",
              "      <td>57</td>\n",
              "      <td>23</td>\n",
              "      <td>1</td>\n",
              "    </tr>\n",
              "    <tr>\n",
              "      <th>2</th>\n",
              "      <td>1</td>\n",
              "      <td>0</td>\n",
              "      <td>1</td>\n",
              "      <td>65</td>\n",
              "      <td>24</td>\n",
              "      <td>0</td>\n",
              "    </tr>\n",
              "    <tr>\n",
              "      <th>3</th>\n",
              "      <td>0</td>\n",
              "      <td>1</td>\n",
              "      <td>1</td>\n",
              "      <td>34</td>\n",
              "      <td>9</td>\n",
              "      <td>0</td>\n",
              "    </tr>\n",
              "    <tr>\n",
              "      <th>4</th>\n",
              "      <td>1</td>\n",
              "      <td>0</td>\n",
              "      <td>1</td>\n",
              "      <td>51</td>\n",
              "      <td>16</td>\n",
              "      <td>0</td>\n",
              "    </tr>\n",
              "    <tr>\n",
              "      <th>...</th>\n",
              "      <td>...</td>\n",
              "      <td>...</td>\n",
              "      <td>...</td>\n",
              "      <td>...</td>\n",
              "      <td>...</td>\n",
              "      <td>...</td>\n",
              "    </tr>\n",
              "    <tr>\n",
              "      <th>595</th>\n",
              "      <td>1</td>\n",
              "      <td>0</td>\n",
              "      <td>1</td>\n",
              "      <td>72</td>\n",
              "      <td>11</td>\n",
              "      <td>0</td>\n",
              "    </tr>\n",
              "    <tr>\n",
              "      <th>596</th>\n",
              "      <td>1</td>\n",
              "      <td>0</td>\n",
              "      <td>1</td>\n",
              "      <td>65</td>\n",
              "      <td>14</td>\n",
              "      <td>0</td>\n",
              "    </tr>\n",
              "    <tr>\n",
              "      <th>597</th>\n",
              "      <td>1</td>\n",
              "      <td>0</td>\n",
              "      <td>1</td>\n",
              "      <td>54</td>\n",
              "      <td>11</td>\n",
              "      <td>0</td>\n",
              "    </tr>\n",
              "    <tr>\n",
              "      <th>598</th>\n",
              "      <td>0</td>\n",
              "      <td>0</td>\n",
              "      <td>1</td>\n",
              "      <td>31</td>\n",
              "      <td>4</td>\n",
              "      <td>1</td>\n",
              "    </tr>\n",
              "    <tr>\n",
              "      <th>599</th>\n",
              "      <td>1</td>\n",
              "      <td>0</td>\n",
              "      <td>1</td>\n",
              "      <td>46</td>\n",
              "      <td>20</td>\n",
              "      <td>1</td>\n",
              "    </tr>\n",
              "  </tbody>\n",
              "</table>\n",
              "<p>600 rows × 6 columns</p>\n",
              "</div>"
            ],
            "text/plain": [
              "     MEN  URBAN  PRIVATE  AGE  SENIORITY  y\n",
              "0      1      0        1   44          2  0\n",
              "1      1      0        1   57         23  1\n",
              "2      1      0        1   65         24  0\n",
              "3      0      1        1   34          9  0\n",
              "4      1      0        1   51         16  0\n",
              "..   ...    ...      ...  ...        ... ..\n",
              "595    1      0        1   72         11  0\n",
              "596    1      0        1   65         14  0\n",
              "597    1      0        1   54         11  0\n",
              "598    0      0        1   31          4  1\n",
              "599    1      0        1   46         20  1\n",
              "\n",
              "[600 rows x 6 columns]"
            ]
          },
          "execution_count": 19,
          "metadata": {},
          "output_type": "execute_result"
        }
      ],
      "source": [
        "base_teste"
      ]
    },
    {
      "cell_type": "code",
      "execution_count": null,
      "metadata": {
        "id": "RVK6-nT-HpIu"
      },
      "outputs": [],
      "source": [
        "base_treino.to_csv('basetreino.csv',sep=',',decimal='.') \n",
        "base_teste.to_csv('baseteste.csv',sep=',',decimal='.')"
      ]
    },
    {
      "cell_type": "markdown",
      "metadata": {
        "id": "zU_2ZLS4HpIv"
      },
      "source": [
        "#### c) Desenvolva uma análise completa com os dados de treino seguindo a metodologia da análise de dados de Spam apresentada na aula aberta (ver arquivo SpamAnalysisSlidesHorizontal2021.pdf) (considerando uma determinada função de ligação, escolhendo as variáveis e avaliando a retirada de pontos). "
      ]
    },
    {
      "cell_type": "markdown",
      "metadata": {
        "id": "Sizj1yCLHpIv"
      },
      "source": [
        "Importação das bibliotecas para realizar ajuste de modelos de regressão"
      ]
    },
    {
      "cell_type": "code",
      "execution_count": null,
      "metadata": {
        "id": "G1s4hs9eHpIv"
      },
      "outputs": [],
      "source": [
        "import statsmodels.api as sm \n",
        "import statsmodels.formula.api as smf "
      ]
    },
    {
      "cell_type": "markdown",
      "metadata": {
        "id": "OxQ8vUp-HpIv"
      },
      "source": [
        "### Primeiro será ajustado o modelo de regressão binária usando a função de ligação logito(canônica)"
      ]
    },
    {
      "cell_type": "code",
      "execution_count": null,
      "metadata": {
        "id": "fhDk6isfHpIv",
        "outputId": "bb13bfd6-b285-41ab-adf6-1695d2299142"
      },
      "outputs": [
        {
          "name": "stdout",
          "output_type": "stream",
          "text": [
            "                 Generalized Linear Model Regression Results                  \n",
            "==============================================================================\n",
            "Dep. Variable:                      y   No. Observations:                 1400\n",
            "Model:                            GLM   Df Residuals:                     1394\n",
            "Model Family:                Binomial   Df Model:                            5\n",
            "Link Function:                  logit   Scale:                          1.0000\n",
            "Method:                          IRLS   Log-Likelihood:                -770.82\n",
            "Date:                Thu, 09 Dec 2021   Deviance:                       1541.6\n",
            "Time:                        23:23:21   Pearson chi2:                 1.41e+03\n",
            "No. Iterations:                     5                                         \n",
            "Covariance Type:            nonrobust                                         \n",
            "==============================================================================\n",
            "                 coef    std err          z      P>|z|      [0.025      0.975]\n",
            "------------------------------------------------------------------------------\n",
            "Intercept      0.2777      0.736      0.377      0.706      -1.165       1.721\n",
            "MEN           -0.8501      0.143     -5.952      0.000      -1.130      -0.570\n",
            "URBAN          1.0215      0.129      7.936      0.000       0.769       1.274\n",
            "PRIVATE        0.3848      0.705      0.546      0.585      -0.996       1.766\n",
            "AGE           -0.0551      0.006     -9.390      0.000      -0.067      -0.044\n",
            "SENIORITY      0.1230      0.011     11.078      0.000       0.101       0.145\n",
            "==============================================================================\n"
          ]
        },
        {
          "name": "stderr",
          "output_type": "stream",
          "text": [
            "C:\\Users\\inacio\\anaconda3\\lib\\site-packages\\ipykernel_launcher.py:1: DeprecationWarning: Calling Family(..) with a link class as argument is deprecated.\n",
            "Use an instance of a link class instead.\n",
            "  \"\"\"Entry point for launching an IPython kernel.\n"
          ]
        }
      ],
      "source": [
        "ajuste1 = smf.glm(formula='y ~ MEN + URBAN + PRIVATE + AGE + SENIORITY', family=sm.families.Binomial(sm.families.links.logit),\n",
        "                  data=base_treino).fit() \n",
        "print(ajuste1.summary()) "
      ]
    },
    {
      "cell_type": "markdown",
      "metadata": {
        "id": "pmt1Dc1BHpIv"
      },
      "source": [
        "Para um nível de significância de $\\alpha=5\\%$, temos a hipóteste $H_0: \\beta_j=0, j=0,...,5$ vs $H_1: Para \\space qualquer \\space B_j \\neq 0$.\n",
        "\n",
        "Então considerando o nível de 0.05, temos que o intercepto e a variável private não são significativos para o modelo. Isso também é observado através dos intervalos de confiança pois tanto o intercepto como a variável private contém o valor zero em seus intervalos de confiança.\n",
        "\n",
        "\n"
      ]
    },
    {
      "cell_type": "markdown",
      "metadata": {
        "id": "1y0iJxv0HpIw"
      },
      "source": [
        "#### Modelo sem a variável private"
      ]
    },
    {
      "cell_type": "code",
      "execution_count": null,
      "metadata": {
        "id": "PwvaPf8HHpIw",
        "outputId": "2d8c1b2b-9413-44ab-a729-bbc37018042f"
      },
      "outputs": [
        {
          "name": "stdout",
          "output_type": "stream",
          "text": [
            "                 Generalized Linear Model Regression Results                  \n",
            "==============================================================================\n",
            "Dep. Variable:                      y   No. Observations:                 1400\n",
            "Model:                            GLM   Df Residuals:                     1395\n",
            "Model Family:                Binomial   Df Model:                            4\n",
            "Link Function:                  logit   Scale:                          1.0000\n",
            "Method:                          IRLS   Log-Likelihood:                -770.98\n",
            "Date:                Thu, 09 Dec 2021   Deviance:                       1542.0\n",
            "Time:                        23:23:21   Pearson chi2:                 1.41e+03\n",
            "No. Iterations:                     5                                         \n",
            "Covariance Type:            nonrobust                                         \n",
            "==============================================================================\n",
            "                 coef    std err          z      P>|z|      [0.025      0.975]\n",
            "------------------------------------------------------------------------------\n",
            "Intercept      0.6572      0.242      2.718      0.007       0.183       1.131\n",
            "MEN           -0.8533      0.143     -5.979      0.000      -1.133      -0.574\n",
            "URBAN          1.0215      0.129      7.936      0.000       0.769       1.274\n",
            "AGE           -0.0550      0.006     -9.379      0.000      -0.066      -0.043\n",
            "SENIORITY      0.1231      0.011     11.087      0.000       0.101       0.145\n",
            "==============================================================================\n"
          ]
        },
        {
          "name": "stderr",
          "output_type": "stream",
          "text": [
            "C:\\Users\\inacio\\anaconda3\\lib\\site-packages\\ipykernel_launcher.py:1: DeprecationWarning: Calling Family(..) with a link class as argument is deprecated.\n",
            "Use an instance of a link class instead.\n",
            "  \"\"\"Entry point for launching an IPython kernel.\n"
          ]
        }
      ],
      "source": [
        "ajuste12 = smf.glm(formula='y ~ MEN + URBAN + AGE + SENIORITY', family=sm.families.Binomial(sm.families.links.logit),\n",
        "                  data=base_treino).fit() \n",
        "print(ajuste12.summary())"
      ]
    },
    {
      "cell_type": "markdown",
      "metadata": {
        "id": "0XTIKDUiHpIw"
      },
      "source": [
        "Para o modelo sem a variável private, considerando $\\alpha=0.05$, todas variáveis são significativas."
      ]
    },
    {
      "cell_type": "markdown",
      "metadata": {
        "id": "WSZ8B6Y7HpIw"
      },
      "source": [
        "#### Modelo sem intercepto"
      ]
    },
    {
      "cell_type": "code",
      "execution_count": null,
      "metadata": {
        "id": "yKXrNrL2HpIw",
        "outputId": "f83d6a6a-043a-428b-e094-25e9e1010171"
      },
      "outputs": [
        {
          "name": "stderr",
          "output_type": "stream",
          "text": [
            "C:\\Users\\inacio\\anaconda3\\lib\\site-packages\\ipykernel_launcher.py:1: DeprecationWarning: Calling Family(..) with a link class as argument is deprecated.\n",
            "Use an instance of a link class instead.\n",
            "  \"\"\"Entry point for launching an IPython kernel.\n"
          ]
        },
        {
          "name": "stdout",
          "output_type": "stream",
          "text": [
            "                 Generalized Linear Model Regression Results                  \n",
            "==============================================================================\n",
            "Dep. Variable:                      y   No. Observations:                 1400\n",
            "Model:                            GLM   Df Residuals:                     1395\n",
            "Model Family:                Binomial   Df Model:                            4\n",
            "Link Function:                  logit   Scale:                          1.0000\n",
            "Method:                          IRLS   Log-Likelihood:                -770.89\n",
            "Date:                Thu, 09 Dec 2021   Deviance:                       1541.8\n",
            "Time:                        23:23:21   Pearson chi2:                 1.41e+03\n",
            "No. Iterations:                     5                                         \n",
            "Covariance Type:            nonrobust                                         \n",
            "==============================================================================\n",
            "                 coef    std err          z      P>|z|      [0.025      0.975]\n",
            "------------------------------------------------------------------------------\n",
            "MEN           -0.8436      0.142     -5.949      0.000      -1.122      -0.566\n",
            "URBAN          1.0239      0.129      7.964      0.000       0.772       1.276\n",
            "PRIVATE        0.6372      0.232      2.741      0.006       0.182       1.093\n",
            "AGE           -0.0546      0.006     -9.538      0.000      -0.066      -0.043\n",
            "SENIORITY      0.1230      0.011     11.077      0.000       0.101       0.145\n",
            "==============================================================================\n"
          ]
        }
      ],
      "source": [
        "ajuste13 = smf.glm(formula='y ~ -1 + MEN + URBAN + PRIVATE + AGE + SENIORITY', family=sm.families.Binomial(sm.families.links.logit),\n",
        "                  data=base_treino).fit() \n",
        "print(ajuste13.summary())"
      ]
    },
    {
      "cell_type": "markdown",
      "metadata": {
        "id": "8QwQsaYSHpIw"
      },
      "source": [
        "Para o modelo sem intercepto, considerando $\\alpha=0.05$, todas variáveis são significativas."
      ]
    },
    {
      "cell_type": "markdown",
      "metadata": {
        "id": "G7aKZxEtHpIx"
      },
      "source": [
        "#### Modelo sem intercepto e variável private"
      ]
    },
    {
      "cell_type": "code",
      "execution_count": null,
      "metadata": {
        "id": "U1vvJOX6HpIx",
        "outputId": "d351d7cb-ad6c-4dd1-eeed-d19b5a939c1a"
      },
      "outputs": [
        {
          "name": "stderr",
          "output_type": "stream",
          "text": [
            "C:\\Users\\inacio\\anaconda3\\lib\\site-packages\\ipykernel_launcher.py:1: DeprecationWarning: Calling Family(..) with a link class as argument is deprecated.\n",
            "Use an instance of a link class instead.\n",
            "  \"\"\"Entry point for launching an IPython kernel.\n"
          ]
        },
        {
          "name": "stdout",
          "output_type": "stream",
          "text": [
            "                 Generalized Linear Model Regression Results                  \n",
            "==============================================================================\n",
            "Dep. Variable:                      y   No. Observations:                 1400\n",
            "Model:                            GLM   Df Residuals:                     1396\n",
            "Model Family:                Binomial   Df Model:                            3\n",
            "Link Function:                  logit   Scale:                          1.0000\n",
            "Method:                          IRLS   Log-Likelihood:                -774.71\n",
            "Date:                Thu, 09 Dec 2021   Deviance:                       1549.4\n",
            "Time:                        23:23:21   Pearson chi2:                 1.39e+03\n",
            "No. Iterations:                     4                                         \n",
            "Covariance Type:            nonrobust                                         \n",
            "==============================================================================\n",
            "                 coef    std err          z      P>|z|      [0.025      0.975]\n",
            "------------------------------------------------------------------------------\n",
            "MEN           -0.7460      0.138     -5.413      0.000      -1.016      -0.476\n",
            "URBAN          1.0763      0.126      8.529      0.000       0.829       1.324\n",
            "AGE           -0.0433      0.004    -11.324      0.000      -0.051      -0.036\n",
            "SENIORITY      0.1228      0.011     11.191      0.000       0.101       0.144\n",
            "==============================================================================\n"
          ]
        }
      ],
      "source": [
        "ajuste14 = smf.glm(formula='y ~ -1 + MEN + URBAN + AGE + SENIORITY', family=sm.families.Binomial(sm.families.links.logit),\n",
        "                  data=base_treino).fit() \n",
        "print(ajuste14.summary())"
      ]
    },
    {
      "cell_type": "markdown",
      "metadata": {
        "id": "9x7D42-aHpIx"
      },
      "source": [
        "Para o modelo sem intercepto e sem a variável private, considerando $\\alpha=0.05$, todas variáveis são significativas."
      ]
    },
    {
      "cell_type": "markdown",
      "metadata": {
        "id": "9QDZxlZGHpIx"
      },
      "source": [
        "#### Comparando o AIC dos modelos ajustados"
      ]
    },
    {
      "cell_type": "code",
      "execution_count": null,
      "metadata": {
        "scrolled": true,
        "id": "wufx5Nr3HpIx",
        "outputId": "fbeed45f-b218-43e2-bc54-30228b8ff77e"
      },
      "outputs": [
        {
          "name": "stdout",
          "output_type": "stream",
          "text": [
            "Modelo completo: 1553.646515589297 \n",
            " Modelo sem a variável private: 1551.959270637772 \n",
            " Modelo sem intercepto: 1551.7842635655402 \n",
            " Modelo sem intecepto e sem a variável private: 1557.4171830551454\n"
          ]
        }
      ],
      "source": [
        "print('Modelo completo:', ajuste1.aic,'\\n',\n",
        "      'Modelo sem a variável private:',ajuste12.aic,'\\n',\n",
        "      'Modelo sem intercepto:',ajuste13.aic,'\\n',\n",
        "      'Modelo sem intecepto e sem a variável private:',ajuste14.aic)"
      ]
    },
    {
      "cell_type": "markdown",
      "metadata": {
        "id": "IiJm1ThRHpIy"
      },
      "source": [
        "Segundo o critério AIC, o melhores modelos são o sem intercepto e o modelo sem a variável private. O modelo tem um AIC menor mas a diferença é muito pequena."
      ]
    },
    {
      "cell_type": "markdown",
      "metadata": {
        "id": "cdWEB4pOHpIy"
      },
      "source": [
        "### Agora será ajustado o modelo de regressão binária usando a função de ligação probito"
      ]
    },
    {
      "cell_type": "code",
      "execution_count": null,
      "metadata": {
        "id": "mnVo0n7BHpIy",
        "outputId": "1b84c817-a4f3-416a-b792-f0691215e0e7"
      },
      "outputs": [
        {
          "name": "stderr",
          "output_type": "stream",
          "text": [
            "C:\\Users\\inacio\\anaconda3\\lib\\site-packages\\ipykernel_launcher.py:1: DeprecationWarning: Calling Family(..) with a link class as argument is deprecated.\n",
            "Use an instance of a link class instead.\n",
            "  \"\"\"Entry point for launching an IPython kernel.\n"
          ]
        },
        {
          "name": "stdout",
          "output_type": "stream",
          "text": [
            "                 Generalized Linear Model Regression Results                  \n",
            "==============================================================================\n",
            "Dep. Variable:                      y   No. Observations:                 1400\n",
            "Model:                            GLM   Df Residuals:                     1394\n",
            "Model Family:                Binomial   Df Model:                            5\n",
            "Link Function:                 probit   Scale:                          1.0000\n",
            "Method:                          IRLS   Log-Likelihood:                -770.80\n",
            "Date:                Thu, 09 Dec 2021   Deviance:                       1541.6\n",
            "Time:                        23:23:21   Pearson chi2:                 1.45e+03\n",
            "No. Iterations:                     5                                         \n",
            "Covariance Type:            nonrobust                                         \n",
            "==============================================================================\n",
            "                 coef    std err          z      P>|z|      [0.025      0.975]\n",
            "------------------------------------------------------------------------------\n",
            "Intercept      0.1780      0.431      0.413      0.679      -0.666       1.022\n",
            "MEN           -0.5023      0.086     -5.873      0.000      -0.670      -0.335\n",
            "URBAN          0.6063      0.076      7.927      0.000       0.456       0.756\n",
            "PRIVATE        0.1932      0.412      0.469      0.639      -0.614       1.001\n",
            "AGE           -0.0322      0.003     -9.621      0.000      -0.039      -0.026\n",
            "SENIORITY      0.0718      0.006     11.278      0.000       0.059       0.084\n",
            "==============================================================================\n"
          ]
        }
      ],
      "source": [
        "ajuste2 = smf.glm(formula='y ~ MEN + URBAN + PRIVATE + AGE + SENIORITY', family=sm.families.Binomial(sm.families.links.probit),\n",
        "                  data=base_treino).fit() \n",
        "print(ajuste2.summary()) "
      ]
    },
    {
      "cell_type": "markdown",
      "metadata": {
        "id": "V28wWxzoHpIy"
      },
      "source": [
        "No modelo com ligação probito ocorre o mesmo que o modelo de ligação logito, considerando $\\alpha=0.05$, o intercepto e a variável private não são significativos para o modelo."
      ]
    },
    {
      "cell_type": "markdown",
      "metadata": {
        "id": "gdR-vYjnHpIy"
      },
      "source": [
        "#### Modelo sem a variável private"
      ]
    },
    {
      "cell_type": "code",
      "execution_count": null,
      "metadata": {
        "id": "8_jxgzolHpIz",
        "outputId": "5e4d85d6-173e-4359-b520-6c5eb93e86b2"
      },
      "outputs": [
        {
          "name": "stdout",
          "output_type": "stream",
          "text": [
            "                 Generalized Linear Model Regression Results                  \n",
            "==============================================================================\n",
            "Dep. Variable:                      y   No. Observations:                 1400\n",
            "Model:                            GLM   Df Residuals:                     1395\n",
            "Model Family:                Binomial   Df Model:                            4\n",
            "Link Function:                 probit   Scale:                          1.0000\n",
            "Method:                          IRLS   Log-Likelihood:                -770.91\n",
            "Date:                Thu, 09 Dec 2021   Deviance:                       1541.8\n",
            "Time:                        23:23:21   Pearson chi2:                 1.45e+03\n",
            "No. Iterations:                     5                                         \n",
            "Covariance Type:            nonrobust                                         \n",
            "==============================================================================\n",
            "                 coef    std err          z      P>|z|      [0.025      0.975]\n",
            "------------------------------------------------------------------------------\n",
            "Intercept      0.3685      0.144      2.563      0.010       0.087       0.650\n",
            "MEN           -0.5041      0.085     -5.897      0.000      -0.672      -0.337\n",
            "URBAN          0.6063      0.076      7.928      0.000       0.456       0.756\n",
            "AGE           -0.0322      0.003     -9.614      0.000      -0.039      -0.026\n",
            "SENIORITY      0.0719      0.006     11.286      0.000       0.059       0.084\n",
            "==============================================================================\n"
          ]
        },
        {
          "name": "stderr",
          "output_type": "stream",
          "text": [
            "C:\\Users\\inacio\\anaconda3\\lib\\site-packages\\ipykernel_launcher.py:1: DeprecationWarning: Calling Family(..) with a link class as argument is deprecated.\n",
            "Use an instance of a link class instead.\n",
            "  \"\"\"Entry point for launching an IPython kernel.\n"
          ]
        }
      ],
      "source": [
        "ajuste22 = smf.glm(formula='y ~ MEN + URBAN + AGE + SENIORITY', family=sm.families.Binomial(sm.families.links.probit),\n",
        "                  data=base_treino).fit() \n",
        "print(ajuste22.summary())"
      ]
    },
    {
      "cell_type": "markdown",
      "metadata": {
        "id": "GSkGRcTBHpIz"
      },
      "source": [
        "Para o modelo sem a variável private, considerando $\\alpha=0.05$, todas variáveis são significativas."
      ]
    },
    {
      "cell_type": "markdown",
      "metadata": {
        "id": "6Zqj-IHjHpIz"
      },
      "source": [
        "#### Modelo sem intercepto"
      ]
    },
    {
      "cell_type": "code",
      "execution_count": null,
      "metadata": {
        "id": "RDUMZpF3HpIz",
        "outputId": "58ffd241-7f0c-4d7e-83ba-4afec8b79826"
      },
      "outputs": [
        {
          "name": "stderr",
          "output_type": "stream",
          "text": [
            "C:\\Users\\inacio\\anaconda3\\lib\\site-packages\\ipykernel_launcher.py:2: DeprecationWarning: Calling Family(..) with a link class as argument is deprecated.\n",
            "Use an instance of a link class instead.\n",
            "  \n"
          ]
        },
        {
          "name": "stdout",
          "output_type": "stream",
          "text": [
            "                 Generalized Linear Model Regression Results                  \n",
            "==============================================================================\n",
            "Dep. Variable:                      y   No. Observations:                 1400\n",
            "Model:                            GLM   Df Residuals:                     1395\n",
            "Model Family:                Binomial   Df Model:                            4\n",
            "Link Function:                 probit   Scale:                          1.0000\n",
            "Method:                          IRLS   Log-Likelihood:                -770.88\n",
            "Date:                Thu, 09 Dec 2021   Deviance:                       1541.8\n",
            "Time:                        23:23:21   Pearson chi2:                 1.45e+03\n",
            "No. Iterations:                     5                                         \n",
            "Covariance Type:            nonrobust                                         \n",
            "==============================================================================\n",
            "                 coef    std err          z      P>|z|      [0.025      0.975]\n",
            "------------------------------------------------------------------------------\n",
            "MEN           -0.4976      0.085     -5.865      0.000      -0.664      -0.331\n",
            "URBAN          0.6081      0.076      7.964      0.000       0.458       0.758\n",
            "PRIVATE        0.3528      0.138      2.557      0.011       0.082       0.623\n",
            "AGE           -0.0319      0.003     -9.759      0.000      -0.038      -0.025\n",
            "SENIORITY      0.0718      0.006     11.280      0.000       0.059       0.084\n",
            "==============================================================================\n"
          ]
        }
      ],
      "source": [
        "ajuste23 = smf.glm(formula='y ~ -1 + MEN + URBAN + PRIVATE + AGE + SENIORITY',\n",
        "                   family=sm.families.Binomial(sm.families.links.probit),\n",
        "                  data=base_treino).fit() \n",
        "print(ajuste23.summary())"
      ]
    },
    {
      "cell_type": "markdown",
      "metadata": {
        "id": "YMyOGZhUHpIz"
      },
      "source": [
        "Para o modelo sem intercepto, considerando $\\alpha=0.05$, todas variáveis são significativas."
      ]
    },
    {
      "cell_type": "markdown",
      "metadata": {
        "id": "veAO3mW4HpIz"
      },
      "source": [
        "#### Modelo sem intercepto e variável private"
      ]
    },
    {
      "cell_type": "code",
      "execution_count": null,
      "metadata": {
        "id": "ezjGUiltHpI0",
        "outputId": "ea0298fb-a993-4168-817f-3c59b5b47470"
      },
      "outputs": [
        {
          "name": "stdout",
          "output_type": "stream",
          "text": [
            "                 Generalized Linear Model Regression Results                  \n",
            "==============================================================================\n",
            "Dep. Variable:                      y   No. Observations:                 1400\n",
            "Model:                            GLM   Df Residuals:                     1396\n",
            "Model Family:                Binomial   Df Model:                            3\n",
            "Link Function:                 probit   Scale:                          1.0000\n",
            "Method:                          IRLS   Log-Likelihood:                -774.21\n",
            "Date:                Thu, 09 Dec 2021   Deviance:                       1548.4\n",
            "Time:                        23:23:21   Pearson chi2:                 1.42e+03\n",
            "No. Iterations:                     5                                         \n",
            "Covariance Type:            nonrobust                                         \n",
            "==============================================================================\n",
            "                 coef    std err          z      P>|z|      [0.025      0.975]\n",
            "------------------------------------------------------------------------------\n",
            "MEN           -0.4432      0.082     -5.390      0.000      -0.604      -0.282\n",
            "URBAN          0.6407      0.075      8.544      0.000       0.494       0.788\n",
            "AGE           -0.0258      0.002    -11.767      0.000      -0.030      -0.022\n",
            "SENIORITY      0.0722      0.006     11.448      0.000       0.060       0.085\n",
            "==============================================================================\n"
          ]
        },
        {
          "name": "stderr",
          "output_type": "stream",
          "text": [
            "C:\\Users\\inacio\\anaconda3\\lib\\site-packages\\ipykernel_launcher.py:1: DeprecationWarning: Calling Family(..) with a link class as argument is deprecated.\n",
            "Use an instance of a link class instead.\n",
            "  \"\"\"Entry point for launching an IPython kernel.\n"
          ]
        }
      ],
      "source": [
        "ajuste24 = smf.glm(formula='y ~ -1 + MEN + URBAN + AGE + SENIORITY', family=sm.families.Binomial(sm.families.links.probit),\n",
        "                  data=base_treino).fit() \n",
        "print(ajuste24.summary())"
      ]
    },
    {
      "cell_type": "markdown",
      "metadata": {
        "id": "q22ITUzGHpI0"
      },
      "source": [
        "Para o modelo sem intercepto e sem a variável private, considerando $\\alpha=0.05$, todas variáveis são significativas."
      ]
    },
    {
      "cell_type": "markdown",
      "metadata": {
        "id": "aeb4bZx5HpI0"
      },
      "source": [
        "#### Comparando o AIC dos modelos ajustados"
      ]
    },
    {
      "cell_type": "code",
      "execution_count": null,
      "metadata": {
        "id": "ftbcVX4XHpI3",
        "outputId": "ae9894d0-0813-4f36-8041-77422f3d14ba"
      },
      "outputs": [
        {
          "name": "stdout",
          "output_type": "stream",
          "text": [
            "Modelo completo: 1553.5905332637255 \n",
            " Modelo sem a variável private: 1551.8278682750276 \n",
            " Modelo sem intercepto: 1551.7671521337288 \n",
            " Modelo sem intecepto e sem a variável private: 1556.4191785506787\n"
          ]
        }
      ],
      "source": [
        "print('Modelo completo:', ajuste2.aic,'\\n',\n",
        "      'Modelo sem a variável private:',ajuste22.aic,'\\n',\n",
        "      'Modelo sem intercepto:',ajuste23.aic,'\\n',\n",
        "      'Modelo sem intecepto e sem a variável private:',ajuste24.aic)"
      ]
    },
    {
      "cell_type": "markdown",
      "metadata": {
        "id": "MbxZkP6vHpI3"
      },
      "source": [
        "Como ocorrido no modelo com ligação logito, para os modelos com ligação probito segundo o critério AIC, o melhores modelos são o sem intercepto e o modelo sem a variável private. O modelo sem intercepto tem um AIC menor do que o modelo sem a variável private mas a diferença é muito pequena."
      ]
    },
    {
      "cell_type": "markdown",
      "metadata": {
        "id": "4KKQaCM5HpI3"
      },
      "source": [
        "### Agora será ajustado o modelo de regressão binária usando a função de ligação cauchito"
      ]
    },
    {
      "cell_type": "code",
      "execution_count": null,
      "metadata": {
        "id": "DHg6hzIqHpI3",
        "outputId": "34fb31e1-3148-4fc6-cc58-6f15f397104c"
      },
      "outputs": [
        {
          "name": "stdout",
          "output_type": "stream",
          "text": [
            "                 Generalized Linear Model Regression Results                  \n",
            "==============================================================================\n",
            "Dep. Variable:                      y   No. Observations:                 1400\n",
            "Model:                            GLM   Df Residuals:                     1394\n",
            "Model Family:                Binomial   Df Model:                            5\n",
            "Link Function:                 cauchy   Scale:                          1.0000\n",
            "Method:                          IRLS   Log-Likelihood:                -777.65\n",
            "Date:                Thu, 09 Dec 2021   Deviance:                       1555.3\n",
            "Time:                        23:23:22   Pearson chi2:                 1.34e+03\n",
            "No. Iterations:                    10                                         \n",
            "Covariance Type:            nonrobust                                         \n",
            "==============================================================================\n",
            "                 coef    std err          z      P>|z|      [0.025      0.975]\n",
            "------------------------------------------------------------------------------\n",
            "Intercept     -0.1358      1.003     -0.135      0.892      -2.101       1.830\n",
            "MEN           -0.8824      0.146     -6.047      0.000      -1.168      -0.596\n",
            "URBAN          0.9959      0.136      7.311      0.000       0.729       1.263\n",
            "PRIVATE        0.9491      0.980      0.968      0.333      -0.972       2.870\n",
            "AGE           -0.0564      0.007     -8.023      0.000      -0.070      -0.043\n",
            "SENIORITY      0.1282      0.014      9.297      0.000       0.101       0.155\n",
            "==============================================================================\n"
          ]
        },
        {
          "name": "stderr",
          "output_type": "stream",
          "text": [
            "C:\\Users\\inacio\\anaconda3\\lib\\site-packages\\ipykernel_launcher.py:1: DeprecationWarning: Calling Family(..) with a link class as argument is deprecated.\n",
            "Use an instance of a link class instead.\n",
            "  \"\"\"Entry point for launching an IPython kernel.\n"
          ]
        }
      ],
      "source": [
        "ajuste3 = smf.glm(formula='y ~ MEN + URBAN + PRIVATE + AGE + SENIORITY', family=sm.families.Binomial(sm.families.links.cauchy),\n",
        "                  data=base_treino).fit() \n",
        "print(ajuste3.summary()) "
      ]
    },
    {
      "cell_type": "markdown",
      "metadata": {
        "id": "mpjWBqyKHpI3"
      },
      "source": [
        "No modelo com ligação cauchito, considerando $\\alpha=0.05$, o intercepto e a variável private não são significativos para o modelo."
      ]
    },
    {
      "cell_type": "markdown",
      "metadata": {
        "id": "b8IrGzX0HpI4"
      },
      "source": [
        "#### Modelo sem a variável private"
      ]
    },
    {
      "cell_type": "code",
      "execution_count": null,
      "metadata": {
        "id": "i4ZPM0YBHpI4",
        "outputId": "a426ece2-18d6-41b5-c291-b9002cc55cec"
      },
      "outputs": [
        {
          "name": "stdout",
          "output_type": "stream",
          "text": [
            "                 Generalized Linear Model Regression Results                  \n",
            "==============================================================================\n",
            "Dep. Variable:                      y   No. Observations:                 1400\n",
            "Model:                            GLM   Df Residuals:                     1395\n",
            "Model Family:                Binomial   Df Model:                            4\n",
            "Link Function:                 cauchy   Scale:                          1.0000\n",
            "Method:                          IRLS   Log-Likelihood:                -778.21\n",
            "Date:                Thu, 09 Dec 2021   Deviance:                       1556.4\n",
            "Time:                        23:23:22   Pearson chi2:                 1.33e+03\n",
            "No. Iterations:                    10                                         \n",
            "Covariance Type:            nonrobust                                         \n",
            "==============================================================================\n",
            "                 coef    std err          z      P>|z|      [0.025      0.975]\n",
            "------------------------------------------------------------------------------\n",
            "Intercept      0.7941      0.244      3.249      0.001       0.315       1.273\n",
            "MEN           -0.8853      0.146     -6.077      0.000      -1.171      -0.600\n",
            "URBAN          0.9928      0.136      7.310      0.000       0.727       1.259\n",
            "AGE           -0.0559      0.007     -7.989      0.000      -0.070      -0.042\n",
            "SENIORITY      0.1279      0.014      9.317      0.000       0.101       0.155\n",
            "==============================================================================\n"
          ]
        },
        {
          "name": "stderr",
          "output_type": "stream",
          "text": [
            "C:\\Users\\inacio\\anaconda3\\lib\\site-packages\\ipykernel_launcher.py:1: DeprecationWarning: Calling Family(..) with a link class as argument is deprecated.\n",
            "Use an instance of a link class instead.\n",
            "  \"\"\"Entry point for launching an IPython kernel.\n"
          ]
        }
      ],
      "source": [
        "ajuste32 = smf.glm(formula='y ~ MEN + URBAN + AGE + SENIORITY', family=sm.families.Binomial(sm.families.links.cauchy),\n",
        "                  data=base_treino).fit() \n",
        "print(ajuste32.summary())"
      ]
    },
    {
      "cell_type": "markdown",
      "metadata": {
        "id": "X7oWPr1wHpI4"
      },
      "source": [
        "Para o modelo sem a variável private, considerando $\\alpha=0.05$, todas variáveis são significativas."
      ]
    },
    {
      "cell_type": "markdown",
      "metadata": {
        "id": "e88PYyYSHpI4"
      },
      "source": [
        "#### Modelo sem intercepto"
      ]
    },
    {
      "cell_type": "code",
      "execution_count": null,
      "metadata": {
        "id": "MVLrJqzrHpI4",
        "outputId": "ba90ccb8-3c4a-4de8-921f-8cabeb846ffc"
      },
      "outputs": [
        {
          "name": "stderr",
          "output_type": "stream",
          "text": [
            "C:\\Users\\inacio\\anaconda3\\lib\\site-packages\\ipykernel_launcher.py:2: DeprecationWarning: Calling Family(..) with a link class as argument is deprecated.\n",
            "Use an instance of a link class instead.\n",
            "  \n"
          ]
        },
        {
          "name": "stdout",
          "output_type": "stream",
          "text": [
            "                 Generalized Linear Model Regression Results                  \n",
            "==============================================================================\n",
            "Dep. Variable:                      y   No. Observations:                 1400\n",
            "Model:                            GLM   Df Residuals:                     1395\n",
            "Model Family:                Binomial   Df Model:                            4\n",
            "Link Function:                 cauchy   Scale:                          1.0000\n",
            "Method:                          IRLS   Log-Likelihood:                -777.66\n",
            "Date:                Thu, 09 Dec 2021   Deviance:                       1555.3\n",
            "Time:                        23:23:22   Pearson chi2:                 1.33e+03\n",
            "No. Iterations:                    10                                         \n",
            "Covariance Type:            nonrobust                                         \n",
            "==============================================================================\n",
            "                 coef    std err          z      P>|z|      [0.025      0.975]\n",
            "------------------------------------------------------------------------------\n",
            "MEN           -0.8834      0.145     -6.072      0.000      -1.169      -0.598\n",
            "URBAN          0.9948      0.136      7.308      0.000       0.728       1.262\n",
            "PRIVATE        0.8194      0.239      3.431      0.001       0.351       1.287\n",
            "AGE           -0.0565      0.007     -8.168      0.000      -0.070      -0.043\n",
            "SENIORITY      0.1282      0.014      9.307      0.000       0.101       0.155\n",
            "==============================================================================\n"
          ]
        }
      ],
      "source": [
        "ajuste33 = smf.glm(formula='y ~ -1 + MEN + URBAN + PRIVATE + AGE + SENIORITY',\n",
        "                   family=sm.families.Binomial(sm.families.links.cauchy),\n",
        "                  data=base_treino).fit() \n",
        "print(ajuste33.summary())"
      ]
    },
    {
      "cell_type": "markdown",
      "metadata": {
        "id": "A0yMIRlpHpI5"
      },
      "source": [
        "Para o modelo sem intercepto, considerando $\\alpha=0.05$, todas variáveis são significativas."
      ]
    },
    {
      "cell_type": "markdown",
      "metadata": {
        "id": "LSDj6imOHpI5"
      },
      "source": [
        "#### Modelo sem intercepto e variável private"
      ]
    },
    {
      "cell_type": "code",
      "execution_count": null,
      "metadata": {
        "id": "BQ1D1bw4HpI5",
        "outputId": "c5669d41-2e53-4ca5-8346-3732951cbfe1"
      },
      "outputs": [
        {
          "name": "stderr",
          "output_type": "stream",
          "text": [
            "C:\\Users\\inacio\\anaconda3\\lib\\site-packages\\ipykernel_launcher.py:1: DeprecationWarning: Calling Family(..) with a link class as argument is deprecated.\n",
            "Use an instance of a link class instead.\n",
            "  \"\"\"Entry point for launching an IPython kernel.\n"
          ]
        },
        {
          "name": "stdout",
          "output_type": "stream",
          "text": [
            "                 Generalized Linear Model Regression Results                  \n",
            "==============================================================================\n",
            "Dep. Variable:                      y   No. Observations:                 1400\n",
            "Model:                            GLM   Df Residuals:                     1396\n",
            "Model Family:                Binomial   Df Model:                            3\n",
            "Link Function:                 cauchy   Scale:                          1.0000\n",
            "Method:                          IRLS   Log-Likelihood:                -783.20\n",
            "Date:                Thu, 09 Dec 2021   Deviance:                       1566.4\n",
            "Time:                        23:23:22   Pearson chi2:                 1.33e+03\n",
            "No. Iterations:                     9                                         \n",
            "Covariance Type:            nonrobust                                         \n",
            "==============================================================================\n",
            "                 coef    std err          z      P>|z|      [0.025      0.975]\n",
            "------------------------------------------------------------------------------\n",
            "MEN           -0.7492      0.139     -5.372      0.000      -1.023      -0.476\n",
            "URBAN          1.0327      0.133      7.759      0.000       0.772       1.294\n",
            "AGE           -0.0405      0.005     -8.984      0.000      -0.049      -0.032\n",
            "SENIORITY      0.1239      0.013      9.311      0.000       0.098       0.150\n",
            "==============================================================================\n"
          ]
        }
      ],
      "source": [
        "ajuste34 = smf.glm(formula='y ~ -1 + MEN + URBAN + AGE + SENIORITY', family=sm.families.Binomial(sm.families.links.cauchy),\n",
        "                  data=base_treino).fit() \n",
        "print(ajuste34.summary())"
      ]
    },
    {
      "cell_type": "markdown",
      "metadata": {
        "id": "UMZhehblHpI5"
      },
      "source": [
        "Para o modelo sem intercepto e sem a variável private, considerando $\\alpha=0.05$, todas variáveis são significativas."
      ]
    },
    {
      "cell_type": "markdown",
      "metadata": {
        "id": "wyFk1F-3HpI5"
      },
      "source": [
        "#### Comparando o AIC dos modelos ajustados"
      ]
    },
    {
      "cell_type": "code",
      "execution_count": null,
      "metadata": {
        "id": "cfHA23QJHpI5",
        "outputId": "75ed3ef2-a843-48b3-ac7e-1059a588e4fd"
      },
      "outputs": [
        {
          "name": "stdout",
          "output_type": "stream",
          "text": [
            "Modelo completo: 1567.3039334297305 \n",
            " Modelo sem a variável private: 1566.4266600700805 \n",
            " Modelo sem intercepto: 1565.322150178149 \n",
            " Modelo sem intecepto e sem a variável private: 1574.4058915908183\n"
          ]
        }
      ],
      "source": [
        "print('Modelo completo:', ajuste3.aic,'\\n',\n",
        "      'Modelo sem a variável private:',ajuste32.aic,'\\n',\n",
        "      'Modelo sem intercepto:',ajuste33.aic,'\\n',\n",
        "      'Modelo sem intecepto e sem a variável private:',ajuste34.aic)"
      ]
    },
    {
      "cell_type": "markdown",
      "metadata": {
        "id": "4-mxo8x2HpI6"
      },
      "source": [
        "No modelo com ligação cauchito segundo o critério AIC, o melhor modelo é o sem intercepto."
      ]
    },
    {
      "cell_type": "markdown",
      "metadata": {
        "id": "vQcMltBuHpI6"
      },
      "source": [
        "### Agora será ajustado o modelo de regressão binária usando a função de ligação cloglog"
      ]
    },
    {
      "cell_type": "code",
      "execution_count": null,
      "metadata": {
        "id": "2ZKfsX1iHpI6",
        "outputId": "271d0e1f-5182-4b5c-c830-14b9575a0b51"
      },
      "outputs": [
        {
          "name": "stderr",
          "output_type": "stream",
          "text": [
            "C:\\Users\\inacio\\anaconda3\\lib\\site-packages\\ipykernel_launcher.py:1: DeprecationWarning: Calling Family(..) with a link class as argument is deprecated.\n",
            "Use an instance of a link class instead.\n",
            "  \"\"\"Entry point for launching an IPython kernel.\n"
          ]
        },
        {
          "name": "stdout",
          "output_type": "stream",
          "text": [
            "                 Generalized Linear Model Regression Results                  \n",
            "==============================================================================\n",
            "Dep. Variable:                      y   No. Observations:                 1400\n",
            "Model:                            GLM   Df Residuals:                     1394\n",
            "Model Family:                Binomial   Df Model:                            5\n",
            "Link Function:                cloglog   Scale:                          1.0000\n",
            "Method:                          IRLS   Log-Likelihood:                -783.20\n",
            "Date:                Thu, 09 Dec 2021   Deviance:                       1566.4\n",
            "Time:                        23:23:22   Pearson chi2:                 1.37e+03\n",
            "No. Iterations:                    12                                         \n",
            "Covariance Type:            nonrobust                                         \n",
            "==============================================================================\n",
            "                 coef    std err          z      P>|z|      [0.025      0.975]\n",
            "------------------------------------------------------------------------------\n",
            "Intercept     -0.2965      0.620     -0.478      0.633      -1.512       0.919\n",
            "MEN           -0.5520      0.103     -5.360      0.000      -0.754      -0.350\n",
            "URBAN          0.6948      0.095      7.330      0.000       0.509       0.881\n",
            "PRIVATE        0.3684      0.599      0.615      0.539      -0.806       1.543\n",
            "AGE           -0.0389      0.004     -8.653      0.000      -0.048      -0.030\n",
            "SENIORITY      0.0799      0.008     10.284      0.000       0.065       0.095\n",
            "==============================================================================\n"
          ]
        }
      ],
      "source": [
        "ajuste4 = smf.glm(formula='y ~ MEN + URBAN + PRIVATE + AGE + SENIORITY', family=sm.families.Binomial(sm.families.links.cloglog),\n",
        "                  data=base_treino).fit() \n",
        "print(ajuste4.summary()) "
      ]
    },
    {
      "cell_type": "markdown",
      "metadata": {
        "id": "RclqytnTHpI6"
      },
      "source": [
        "No modelo com ligação cloglog, considerando $\\alpha=0.05$, o intercepto e a variável private não são significativos para o modelo."
      ]
    },
    {
      "cell_type": "markdown",
      "metadata": {
        "id": "3r0ORazZHpI6"
      },
      "source": [
        "#### Modelo sem a variável private"
      ]
    },
    {
      "cell_type": "code",
      "execution_count": null,
      "metadata": {
        "id": "bqTfp09SHpI6",
        "outputId": "65e12b3c-65a4-43d1-c463-cc2bb05294f1"
      },
      "outputs": [
        {
          "name": "stdout",
          "output_type": "stream",
          "text": [
            "                 Generalized Linear Model Regression Results                  \n",
            "==============================================================================\n",
            "Dep. Variable:                      y   No. Observations:                 1400\n",
            "Model:                            GLM   Df Residuals:                     1395\n",
            "Model Family:                Binomial   Df Model:                            4\n",
            "Link Function:                cloglog   Scale:                          1.0000\n",
            "Method:                          IRLS   Log-Likelihood:                -783.43\n",
            "Date:                Thu, 09 Dec 2021   Deviance:                       1566.9\n",
            "Time:                        23:23:22   Pearson chi2:                 1.37e+03\n",
            "No. Iterations:                    12                                         \n",
            "Covariance Type:            nonrobust                                         \n",
            "==============================================================================\n",
            "                 coef    std err          z      P>|z|      [0.025      0.975]\n",
            "------------------------------------------------------------------------------\n",
            "Intercept      0.0651      0.184      0.354      0.723      -0.295       0.425\n",
            "MEN           -0.5542      0.103     -5.384      0.000      -0.756      -0.352\n",
            "URBAN          0.6945      0.095      7.327      0.000       0.509       0.880\n",
            "AGE           -0.0388      0.004     -8.634      0.000      -0.048      -0.030\n",
            "SENIORITY      0.0801      0.008     10.305      0.000       0.065       0.095\n",
            "==============================================================================\n"
          ]
        },
        {
          "name": "stderr",
          "output_type": "stream",
          "text": [
            "C:\\Users\\inacio\\anaconda3\\lib\\site-packages\\ipykernel_launcher.py:1: DeprecationWarning: Calling Family(..) with a link class as argument is deprecated.\n",
            "Use an instance of a link class instead.\n",
            "  \"\"\"Entry point for launching an IPython kernel.\n"
          ]
        }
      ],
      "source": [
        "ajuste42 = smf.glm(formula='y ~ MEN + URBAN + AGE + SENIORITY', family=sm.families.Binomial(sm.families.links.cloglog),\n",
        "                  data=base_treino).fit() \n",
        "print(ajuste42.summary())"
      ]
    },
    {
      "cell_type": "markdown",
      "metadata": {
        "id": "PF5_0RqaHpI7"
      },
      "source": [
        "Para o modelo sem a variável private, considerando $\\alpha=0.05$, o intercepto não é significativo para o modelo."
      ]
    },
    {
      "cell_type": "markdown",
      "metadata": {
        "id": "36SkHPfRHpI7"
      },
      "source": [
        "#### Modelo sem intercepto"
      ]
    },
    {
      "cell_type": "code",
      "execution_count": null,
      "metadata": {
        "id": "AbLSKIS7HpI7",
        "outputId": "0023480b-9e4a-4e4f-cc3a-3d7b0dda9339"
      },
      "outputs": [
        {
          "name": "stdout",
          "output_type": "stream",
          "text": [
            "                 Generalized Linear Model Regression Results                  \n",
            "==============================================================================\n",
            "Dep. Variable:                      y   No. Observations:                 1400\n",
            "Model:                            GLM   Df Residuals:                     1395\n",
            "Model Family:                Binomial   Df Model:                            4\n",
            "Link Function:                cloglog   Scale:                          1.0000\n",
            "Method:                          IRLS   Log-Likelihood:                -783.33\n",
            "Date:                Thu, 09 Dec 2021   Deviance:                       1566.7\n",
            "Time:                        23:23:22   Pearson chi2:                 1.37e+03\n",
            "No. Iterations:                    12                                         \n",
            "Covariance Type:            nonrobust                                         \n",
            "==============================================================================\n",
            "                 coef    std err          z      P>|z|      [0.025      0.975]\n",
            "------------------------------------------------------------------------------\n",
            "MEN           -0.5576      0.102     -5.454      0.000      -0.758      -0.357\n",
            "URBAN          0.6905      0.095      7.304      0.000       0.505       0.876\n",
            "PRIVATE        0.0996      0.176      0.566      0.571      -0.245       0.445\n",
            "AGE           -0.0394      0.004     -8.993      0.000      -0.048      -0.031\n",
            "SENIORITY      0.0800      0.008     10.286      0.000       0.065       0.095\n",
            "==============================================================================\n"
          ]
        },
        {
          "name": "stderr",
          "output_type": "stream",
          "text": [
            "C:\\Users\\inacio\\anaconda3\\lib\\site-packages\\ipykernel_launcher.py:2: DeprecationWarning: Calling Family(..) with a link class as argument is deprecated.\n",
            "Use an instance of a link class instead.\n",
            "  \n"
          ]
        }
      ],
      "source": [
        "ajuste43 = smf.glm(formula='y ~ -1 + MEN + URBAN + PRIVATE + AGE + SENIORITY',\n",
        "                   family=sm.families.Binomial(sm.families.links.cloglog),\n",
        "                  data=base_treino).fit() \n",
        "print(ajuste43.summary())"
      ]
    },
    {
      "cell_type": "markdown",
      "metadata": {
        "id": "Bp3wziJuHpI7"
      },
      "source": [
        "Para o modelo sem intercepto, considerando $\\alpha=0.05$, a variável private não é significativa."
      ]
    },
    {
      "cell_type": "markdown",
      "metadata": {
        "id": "kUladLIeHpI7"
      },
      "source": [
        "#### Modelo sem intercepto e variável private"
      ]
    },
    {
      "cell_type": "code",
      "execution_count": null,
      "metadata": {
        "id": "H99a5KVrHpI7",
        "outputId": "9854c143-3262-4235-a646-09da05165a05"
      },
      "outputs": [
        {
          "name": "stdout",
          "output_type": "stream",
          "text": [
            "                 Generalized Linear Model Regression Results                  \n",
            "==============================================================================\n",
            "Dep. Variable:                      y   No. Observations:                 1400\n",
            "Model:                            GLM   Df Residuals:                     1396\n",
            "Model Family:                Binomial   Df Model:                            3\n",
            "Link Function:                cloglog   Scale:                          1.0000\n",
            "Method:                          IRLS   Log-Likelihood:                -783.49\n",
            "Date:                Thu, 09 Dec 2021   Deviance:                       1567.0\n",
            "Time:                        23:23:22   Pearson chi2:                 1.37e+03\n",
            "No. Iterations:                    11                                         \n",
            "Covariance Type:            nonrobust                                         \n",
            "==============================================================================\n",
            "                 coef    std err          z      P>|z|      [0.025      0.975]\n",
            "------------------------------------------------------------------------------\n",
            "MEN           -0.5461      0.100     -5.438      0.000      -0.743      -0.349\n",
            "URBAN          0.7026      0.093      7.581      0.000       0.521       0.884\n",
            "AGE           -0.0376      0.003    -12.805      0.000      -0.043      -0.032\n",
            "SENIORITY      0.0802      0.008     10.333      0.000       0.065       0.095\n",
            "==============================================================================\n"
          ]
        },
        {
          "name": "stderr",
          "output_type": "stream",
          "text": [
            "C:\\Users\\inacio\\anaconda3\\lib\\site-packages\\ipykernel_launcher.py:1: DeprecationWarning: Calling Family(..) with a link class as argument is deprecated.\n",
            "Use an instance of a link class instead.\n",
            "  \"\"\"Entry point for launching an IPython kernel.\n"
          ]
        }
      ],
      "source": [
        "ajuste44 = smf.glm(formula='y ~ -1 + MEN + URBAN + AGE + SENIORITY', family=sm.families.Binomial(sm.families.links.cloglog),\n",
        "                  data=base_treino).fit() \n",
        "print(ajuste44.summary())"
      ]
    },
    {
      "cell_type": "markdown",
      "metadata": {
        "id": "NckpRU7CHpI8"
      },
      "source": [
        "Para o modelo sem intercepto e sem a variável private, considerando $\\alpha=0.05$, todas variáveis são significativas."
      ]
    },
    {
      "cell_type": "markdown",
      "metadata": {
        "id": "5NlACojBHpI8"
      },
      "source": [
        "#### Comparando o AIC dos modelos ajustados"
      ]
    },
    {
      "cell_type": "code",
      "execution_count": null,
      "metadata": {
        "id": "__m2CYdgHpI8",
        "outputId": "3f4c3f8b-419f-4ee9-b73a-1afbf3585677"
      },
      "outputs": [
        {
          "name": "stdout",
          "output_type": "stream",
          "text": [
            "Modelo completo: 1578.4059340591489 \n",
            " Modelo sem a variável private: 1576.8596284883038 \n",
            " Modelo sem intercepto: 1576.6694697599632 \n",
            " Modelo sem intecepto e sem a variável private: 1574.9801317485394\n"
          ]
        }
      ],
      "source": [
        "print('Modelo completo:', ajuste4.aic,'\\n',\n",
        "      'Modelo sem a variável private:',ajuste42.aic,'\\n',\n",
        "      'Modelo sem intercepto:',ajuste43.aic,'\\n',\n",
        "      'Modelo sem intecepto e sem a variável private:',ajuste44.aic)"
      ]
    },
    {
      "cell_type": "markdown",
      "metadata": {
        "id": "A7HpMW8_HpI8"
      },
      "source": [
        "Para o modelo com ligação cloglog, segundo o critério AIC, o melhor modelo ajustado é o sem intercepto e sem a variável private."
      ]
    },
    {
      "cell_type": "markdown",
      "metadata": {
        "id": "6bk3WFXIHpI8"
      },
      "source": [
        "#### A análise de pontos será realizada para o modelo com menor AIC, que foi o modelo com ligação probito sem a variável private."
      ]
    },
    {
      "cell_type": "code",
      "execution_count": null,
      "metadata": {
        "id": "-gHkC2GKHpI8",
        "outputId": "6b3cd899-9816-4d41-8b6c-2f62eeabaf8d"
      },
      "outputs": [
        {
          "data": {
            "text/html": [
              "<div>\n",
              "<style scoped>\n",
              "    .dataframe tbody tr th:only-of-type {\n",
              "        vertical-align: middle;\n",
              "    }\n",
              "\n",
              "    .dataframe tbody tr th {\n",
              "        vertical-align: top;\n",
              "    }\n",
              "\n",
              "    .dataframe thead th {\n",
              "        text-align: right;\n",
              "    }\n",
              "</style>\n",
              "<table border=\"1\" class=\"dataframe\">\n",
              "  <thead>\n",
              "    <tr style=\"text-align: right;\">\n",
              "      <th></th>\n",
              "      <th>dfb_Intercept</th>\n",
              "      <th>dfb_MEN</th>\n",
              "      <th>dfb_URBAN</th>\n",
              "      <th>dfb_AGE</th>\n",
              "      <th>dfb_SENIORITY</th>\n",
              "      <th>cooks_d</th>\n",
              "      <th>standard_resid</th>\n",
              "      <th>hat_diag</th>\n",
              "      <th>dffits_internal</th>\n",
              "    </tr>\n",
              "  </thead>\n",
              "  <tbody>\n",
              "    <tr>\n",
              "      <th>427</th>\n",
              "      <td>-0.029779</td>\n",
              "      <td>0.008134</td>\n",
              "      <td>0.006104</td>\n",
              "      <td>0.173306</td>\n",
              "      <td>-0.338444</td>\n",
              "      <td>0.024954</td>\n",
              "      <td>-3.459986</td>\n",
              "      <td>0.010315</td>\n",
              "      <td>-0.353226</td>\n",
              "    </tr>\n",
              "    <tr>\n",
              "      <th>382</th>\n",
              "      <td>-0.107704</td>\n",
              "      <td>0.067315</td>\n",
              "      <td>-0.114824</td>\n",
              "      <td>0.241413</td>\n",
              "      <td>-0.243642</td>\n",
              "      <td>0.019459</td>\n",
              "      <td>7.268124</td>\n",
              "      <td>0.001838</td>\n",
              "      <td>0.311923</td>\n",
              "    </tr>\n",
              "    <tr>\n",
              "      <th>522</th>\n",
              "      <td>-0.035899</td>\n",
              "      <td>0.149598</td>\n",
              "      <td>-0.115082</td>\n",
              "      <td>0.085127</td>\n",
              "      <td>-0.219092</td>\n",
              "      <td>0.014916</td>\n",
              "      <td>-3.623233</td>\n",
              "      <td>0.005649</td>\n",
              "      <td>-0.273092</td>\n",
              "    </tr>\n",
              "    <tr>\n",
              "      <th>1279</th>\n",
              "      <td>-0.114358</td>\n",
              "      <td>0.048655</td>\n",
              "      <td>-0.096757</td>\n",
              "      <td>0.208820</td>\n",
              "      <td>-0.160064</td>\n",
              "      <td>0.012481</td>\n",
              "      <td>5.308646</td>\n",
              "      <td>0.002209</td>\n",
              "      <td>0.249807</td>\n",
              "    </tr>\n",
              "    <tr>\n",
              "      <th>1208</th>\n",
              "      <td>-0.046945</td>\n",
              "      <td>0.064674</td>\n",
              "      <td>-0.094885</td>\n",
              "      <td>0.150104</td>\n",
              "      <td>-0.188231</td>\n",
              "      <td>0.010768</td>\n",
              "      <td>5.148181</td>\n",
              "      <td>0.002027</td>\n",
              "      <td>0.232037</td>\n",
              "    </tr>\n",
              "    <tr>\n",
              "      <th>65</th>\n",
              "      <td>-0.042561</td>\n",
              "      <td>0.133580</td>\n",
              "      <td>-0.104053</td>\n",
              "      <td>0.075905</td>\n",
              "      <td>-0.175670</td>\n",
              "      <td>0.010761</td>\n",
              "      <td>-3.111571</td>\n",
              "      <td>0.005527</td>\n",
              "      <td>-0.231959</td>\n",
              "    </tr>\n",
              "    <tr>\n",
              "      <th>512</th>\n",
              "      <td>-0.146492</td>\n",
              "      <td>0.023943</td>\n",
              "      <td>-0.079155</td>\n",
              "      <td>0.199622</td>\n",
              "      <td>-0.068797</td>\n",
              "      <td>0.010216</td>\n",
              "      <td>3.883817</td>\n",
              "      <td>0.003375</td>\n",
              "      <td>0.226008</td>\n",
              "    </tr>\n",
              "    <tr>\n",
              "      <th>508</th>\n",
              "      <td>-0.040912</td>\n",
              "      <td>0.064327</td>\n",
              "      <td>-0.092798</td>\n",
              "      <td>0.140929</td>\n",
              "      <td>-0.182531</td>\n",
              "      <td>0.010075</td>\n",
              "      <td>4.964135</td>\n",
              "      <td>0.002040</td>\n",
              "      <td>0.224445</td>\n",
              "    </tr>\n",
              "    <tr>\n",
              "      <th>847</th>\n",
              "      <td>-0.019244</td>\n",
              "      <td>0.131697</td>\n",
              "      <td>-0.097862</td>\n",
              "      <td>0.048985</td>\n",
              "      <td>-0.166372</td>\n",
              "      <td>0.009931</td>\n",
              "      <td>-2.854340</td>\n",
              "      <td>0.006058</td>\n",
              "      <td>-0.222835</td>\n",
              "    </tr>\n",
              "    <tr>\n",
              "      <th>1077</th>\n",
              "      <td>-0.045633</td>\n",
              "      <td>0.060748</td>\n",
              "      <td>-0.090275</td>\n",
              "      <td>0.139657</td>\n",
              "      <td>-0.169277</td>\n",
              "      <td>0.009206</td>\n",
              "      <td>4.748507</td>\n",
              "      <td>0.002037</td>\n",
              "      <td>0.214545</td>\n",
              "    </tr>\n",
              "  </tbody>\n",
              "</table>\n",
              "</div>"
            ],
            "text/plain": [
              "      dfb_Intercept   dfb_MEN  dfb_URBAN   dfb_AGE  dfb_SENIORITY   cooks_d  \\\n",
              "427       -0.029779  0.008134   0.006104  0.173306      -0.338444  0.024954   \n",
              "382       -0.107704  0.067315  -0.114824  0.241413      -0.243642  0.019459   \n",
              "522       -0.035899  0.149598  -0.115082  0.085127      -0.219092  0.014916   \n",
              "1279      -0.114358  0.048655  -0.096757  0.208820      -0.160064  0.012481   \n",
              "1208      -0.046945  0.064674  -0.094885  0.150104      -0.188231  0.010768   \n",
              "65        -0.042561  0.133580  -0.104053  0.075905      -0.175670  0.010761   \n",
              "512       -0.146492  0.023943  -0.079155  0.199622      -0.068797  0.010216   \n",
              "508       -0.040912  0.064327  -0.092798  0.140929      -0.182531  0.010075   \n",
              "847       -0.019244  0.131697  -0.097862  0.048985      -0.166372  0.009931   \n",
              "1077      -0.045633  0.060748  -0.090275  0.139657      -0.169277  0.009206   \n",
              "\n",
              "      standard_resid  hat_diag  dffits_internal  \n",
              "427        -3.459986  0.010315        -0.353226  \n",
              "382         7.268124  0.001838         0.311923  \n",
              "522        -3.623233  0.005649        -0.273092  \n",
              "1279        5.308646  0.002209         0.249807  \n",
              "1208        5.148181  0.002027         0.232037  \n",
              "65         -3.111571  0.005527        -0.231959  \n",
              "512         3.883817  0.003375         0.226008  \n",
              "508         4.964135  0.002040         0.224445  \n",
              "847        -2.854340  0.006058        -0.222835  \n",
              "1077        4.748507  0.002037         0.214545  "
            ]
          },
          "execution_count": 42,
          "metadata": {},
          "output_type": "execute_result"
        }
      ],
      "source": [
        "infl = ajuste22.get_influence(observed=False)\n",
        "summ_df = infl.summary_frame()\n",
        "summ_df.sort_values(\"cooks_d\", ascending=False)[:10]"
      ]
    },
    {
      "cell_type": "markdown",
      "metadata": {
        "id": "_dgatD-KHpI9"
      },
      "source": [
        "Aparentemente não há pontos de alavanca e influentes pois não há valores de cook e hat muito altos."
      ]
    },
    {
      "cell_type": "markdown",
      "metadata": {
        "id": "kiFXwziSHpI9"
      },
      "source": [
        "#### d) Qual é o melhor modelo para esses dados na base de treino? Use estatísticas como AIC, curva ROC na base de treino"
      ]
    },
    {
      "cell_type": "markdown",
      "metadata": {
        "id": "J2lqATSfHpI9"
      },
      "source": [
        "Como o critério AIC foi utilizado no item c), vamos pegar os modelos sem a variável private para as ligações logito,probito e cauchito e o modelo sem intercepto e sem a variável private para o modelo com ligação cloglog."
      ]
    },
    {
      "cell_type": "markdown",
      "metadata": {
        "id": "1Rbc1p5ZHpI9"
      },
      "source": [
        "Importação da biblioteca para curva ROC"
      ]
    },
    {
      "cell_type": "code",
      "execution_count": null,
      "metadata": {
        "id": "jdAsaLazHpI9"
      },
      "outputs": [],
      "source": [
        "from sklearn.metrics import roc_curve, auc"
      ]
    },
    {
      "cell_type": "markdown",
      "metadata": {
        "id": "HIjyTQ3qHpI9"
      },
      "source": [
        "Cálculo curva ROC"
      ]
    },
    {
      "cell_type": "code",
      "execution_count": null,
      "metadata": {
        "id": "rosbL_MEHpI9",
        "outputId": "5780ba90-1f3e-49f4-855e-e91eb9f769c6"
      },
      "outputs": [
        {
          "name": "stdout",
          "output_type": "stream",
          "text": [
            "Área sob a curva ROC modelo 1 : 0.768910\n",
            "Área sob a curva ROC modelo 2 : 0.768937\n",
            "Área sob a curva ROC modelo 3 : 0.768937\n",
            "Área sob a curva ROC modelo 4 : 0.768937\n"
          ]
        }
      ],
      "source": [
        "yobs = base_treino['y'] \n",
        "phat1 = ajuste12.predict(base_treino) \n",
        "phat2 = ajuste22.predict(base_treino) \n",
        "phat3 = ajuste32.predict(base_treino)\n",
        "phat4 = ajuste44.predict(base_treino)\n",
        "\n",
        "fpr1, tpr1, thresholds = roc_curve(yobs, phat1) \n",
        "auc1 = auc(fpr1, tpr1) \n",
        " \n",
        "fpr2, tpr2, thresholds = roc_curve(yobs, phat2) \n",
        "auc2 = auc(fpr2, tpr2) \n",
        "\n",
        "fpr3, tpr3, thresholds = roc_curve(yobs, phat3) \n",
        "auc3 = auc(fpr3, tpr3) \n",
        "\n",
        "fpr4, tpr4, thresholds = roc_curve(yobs, phat4) \n",
        "auc4 = auc(fpr4, tpr4) \n",
        " \n",
        "print(\"Área sob a curva ROC modelo 1 : %f\" % auc1) \n",
        "print(\"Área sob a curva ROC modelo 2 : %f\" % auc2) \n",
        "print(\"Área sob a curva ROC modelo 3 : %f\" % auc2) \n",
        "print(\"Área sob a curva ROC modelo 4 : %f\" % auc2) "
      ]
    },
    {
      "cell_type": "markdown",
      "metadata": {
        "id": "ypiYkaH6HpI-"
      },
      "source": [
        "Os valores da curva ROC para todos modelos foram praticamente iguais, então o melhor modelo será escolhido através do critério AIC"
      ]
    },
    {
      "cell_type": "code",
      "execution_count": null,
      "metadata": {
        "id": "flbUJPElHpI-",
        "outputId": "c9e86759-91be-4201-8025-6cb58cef3bc8"
      },
      "outputs": [
        {
          "name": "stdout",
          "output_type": "stream",
          "text": [
            "AIC modelo 1 : 1551.959271\n",
            "AIC modelo 2 : 1551.827868\n",
            "AIC modelo 3 : 1566.426660\n",
            "AIC modelo 4 : 1574.980132\n"
          ]
        }
      ],
      "source": [
        "print(\"AIC modelo 1 : %f\" % ajuste12.aic) \n",
        "print(\"AIC modelo 2 : %f\" % ajuste22.aic) \n",
        "print(\"AIC modelo 3 : %f\" % ajuste32.aic) \n",
        "print(\"AIC modelo 4 : %f\" % ajuste44.aic) "
      ]
    },
    {
      "cell_type": "markdown",
      "metadata": {
        "id": "PZ-e2oJpHpI-"
      },
      "source": [
        "O modelo com menor AIC foi o com ligação probito sem a variável private, logo é o melhor modelo para esses dados na base de treino."
      ]
    },
    {
      "cell_type": "markdown",
      "metadata": {
        "id": "McwReFugHpI-"
      },
      "source": [
        "#### e) Considerando os dados de teste, calcule a acurácia do melhor modelo escolhido e d) e compare este resultado com a acurácia do modelo de regressão binaria com ligação logística se for um diferente modelo. Comente. \n"
      ]
    },
    {
      "cell_type": "markdown",
      "metadata": {
        "id": "5hmQGvOPHpI-"
      },
      "source": [
        "Importação da biblioteca para cálculo da acurácia"
      ]
    },
    {
      "cell_type": "code",
      "execution_count": null,
      "metadata": {
        "id": "LN52j-BSHpI_"
      },
      "outputs": [],
      "source": [
        "from sklearn.metrics import accuracy_score "
      ]
    },
    {
      "cell_type": "markdown",
      "metadata": {
        "id": "DQFE0U89HpI_"
      },
      "source": [
        "Predição de valores na base de teste a cálculo da acurácia"
      ]
    },
    {
      "cell_type": "code",
      "execution_count": null,
      "metadata": {
        "id": "HPewZwY8HpI_"
      },
      "outputs": [],
      "source": [
        "ypred1 = np.round(ajuste12.predict(base_teste.drop(columns={'y'},axis=1,inplace=False)),0).astype('int64') \n",
        "ypred2 = np.round(ajuste22.predict(base_teste.drop(columns={'y'},axis=1,inplace=False)),0).astype('int64')"
      ]
    },
    {
      "cell_type": "code",
      "execution_count": null,
      "metadata": {
        "id": "S3mKGlDgHpI_",
        "outputId": "f663da6a-4130-48c9-934d-03e12fcae193"
      },
      "outputs": [
        {
          "name": "stdout",
          "output_type": "stream",
          "text": [
            "Acurácia do modelo com ligação logito sem a variável private: 0.72 \n",
            "Acurácia do modelo com ligação probito sem a variável private: 0.7133333333333334\n"
          ]
        }
      ],
      "source": [
        "ac1 = accuracy_score(ypred1,base_teste['y']) \n",
        "ac2 = accuracy_score(ypred2,base_teste['y']) \n",
        "print('Acurácia do modelo com ligação logito sem a variável private:',ac1, \n",
        "      '\\nAcurácia do modelo com ligação probito sem a variável private:',ac2) "
      ]
    },
    {
      "cell_type": "markdown",
      "metadata": {
        "id": "IVvt7UtXHpI_"
      },
      "source": [
        "Comparando o melhor modelo escolhido que foi o modelo com ligação probito com o modelo com ligação logito, temos uma acurácia próxima, porém o modelo com ligação logito é melhor para a base de teste."
      ]
    }
  ],
  "metadata": {
    "kernelspec": {
      "display_name": "Python 3",
      "language": "python",
      "name": "python3"
    },
    "language_info": {
      "codemirror_mode": {
        "name": "ipython",
        "version": 3
      },
      "file_extension": ".py",
      "mimetype": "text/x-python",
      "name": "python",
      "nbconvert_exporter": "python",
      "pygments_lexer": "ipython3",
      "version": "3.7.6"
    },
    "colab": {
      "name": "prova2_parte2_notebook.ipynb",
      "provenance": []
    }
  },
  "nbformat": 4,
  "nbformat_minor": 0
}